{
 "cells": [
  {
   "cell_type": "markdown",
   "id": "e136f7c8",
   "metadata": {},
   "source": [
    "<p style=\"text-align:center\"> \n",
    "    <a href=\"https://www.linkedin.com/in/flavio-aguirre-12784a252/\" target=\"_blank\"> \n",
    "    <img src=\"../assets/logo.png\" width=\"200\" alt=\"Flavio Aguirre Logo\"> \n",
    "    </a>\n",
    "</p>\n",
    "\n",
    "<h1 align=\"center\"><font size=\"7\"><strong>📉 ByeBye Predictor</strong></font></h1>\n",
    "<br>\n",
    "<hr>"
   ]
  },
  {
   "cell_type": "markdown",
   "id": "890329de",
   "metadata": {},
   "source": [
    "## 🧠 Introduction\n",
    "\n",
    "The goal of this project is to develop a machine learning model capable of predicting whether a customer will churn based on various characteristics related to their behavior and opinions expressed on forums or social media.\n",
    "\n",
    "We will use Kaggle's renowned \"Telco Customer Churn\" dataset to train our model, as it has the initial labels necessary for a reasonably good baseline model. We will then simulate a more realistic environment by acquiring data from public comments about phone services on social media platforms like Reddit. This approach allows us to incorporate sentiment analysis and natural language-derived features as part of our predictive model."
   ]
  },
  {
   "cell_type": "markdown",
   "id": "416b895f",
   "metadata": {},
   "source": [
    "<hr>"
   ]
  },
  {
   "cell_type": "markdown",
   "id": "e3ccac3f",
   "metadata": {},
   "source": [
    "## 📦 About the dataset\n",
    "### 1. Structured dataset (customers and churn)\n",
    "We used the well-known Kaggle public dataset:\n",
    "* ``Name``: Telco Customer Churn.\n",
    "  \n",
    "* ``Source``: [Kaggle - Telco Customer Churn](https://www.kaggle.com/datasets/blastchar/telco-customer-churn).\n",
    "  \n",
    "* ``Description``: Contains information on more than 7,000 customers of a fictitious telecommunications company, with variables such as: Gender, contract type, contracted services, Monthly amount, payment history, etc.\n",
    "  \n",
    "* ``Target variable``: Churn (Yes / No)\n",
    "\n",
    "### 2. Unstructured data (customer comments)\n",
    "We simulated the collection of real opinions using web scraping from public forums, specifically:\n",
    "\n",
    "``Source``: Reddit (subreddits such as r/movistar)\n",
    "\n",
    "``Tools``: PRAW, Pushshift API, BeautifulSoup\n",
    "\n",
    "``Content``: Comments on experiences with telephone companies, frequent complaints, provider changes, and service levels of satisfaction."
   ]
  },
  {
   "cell_type": "markdown",
   "id": "a4c34800",
   "metadata": {},
   "source": [
    "<hr>"
   ]
  },
  {
   "cell_type": "markdown",
   "id": "48195e85",
   "metadata": {},
   "source": [
    "## 🎯 Project Objective\n",
    "This project seeks to predict the likelihood of a customer churn by integrating both structured data (age, contract type, service usage) and unstructured data (real user reviews extracted from Reddit).\n",
    "\n",
    "The approach combines traditional machine learning techniques, natural language processing (NLP), and web scraping to simulate a realistic and challenging environment in the field of Data Science."
   ]
  },
  {
   "cell_type": "markdown",
   "id": "d6844cf8",
   "metadata": {},
   "source": [
    "<hr>"
   ]
  },
  {
   "cell_type": "markdown",
   "id": "1e6ac8d7",
   "metadata": {},
   "source": [
    "## 🔄 Project Flow\n",
    "### 🛠 1. Data Acquisition\n",
    "* Download the structured dataset from Kaggle.\n",
    "\n",
    "* Extract comments from Reddit using Python and public APIs.\n",
    "\n",
    "* Save data in .csv and .json formats.\n",
    "\n",
    "### 🧹 2. Text Cleaning and Processing\n",
    "* Noise Removal: URLs, emojis, unnecessary characters\n",
    "\n",
    "* Comment Tokenization and Lemmatization\n",
    "\n",
    "* Sentiment Classification Using Tools Such as TextBlob\n",
    "\n",
    "* Frequent Topic Extraction Using LDA (Latent Dirichlet Allocation)\n",
    "\n",
    "### 🧠 3. Feature Engineering\n",
    "Additional variables are generated from the comments:\n",
    "\n",
    "* sentiment_score (numerical sentiment value)\n",
    "\n",
    "* negative_comments (count of negative mentions)\n",
    "\n",
    "* recurring_topics (technical support, billing, portability, etc.)\n",
    "\n",
    "* Customer Profile Simulation to Enrich the Base Dataset:\n",
    "    * Age, Plan Type, Contact Frequency, Contract Length\n",
    "\n",
    "    * Synthetic Association Between Comment and Customer Profile (for Experimental Purposes)\n",
    "\n",
    "### 🎯 4. Target Labeling (Churn)\n",
    "The Churn column of the original dataset is used as the target variable (0 = keep, 1 = abandonment)\n",
    "\n",
    "The relationship between comment sentiment and churn is analyzed.\n",
    "\n",
    "### 🤖 5. Modeling and Evaluation\n",
    "* Applied models: Logistic Regression, Random Forest, XGBoost\n",
    "\n",
    "* Metrics used: Accuracy, Precision, Recall, F1-score\n",
    "\n",
    "* Model comparison:\n",
    "    * With structured data only\n",
    "\n",
    "    * With structured data + sentiment\n",
    "\n",
    "### 📊 6. Visualization and presentation\n",
    "Creation of a dashboard with Streamlit to explore:\n",
    "\n",
    "* Most frequent opinions and topics\n",
    "\n",
    "* Churn prediction by profile\n",
    "\n",
    "* Impact of sentiment on the final decision\n",
    "\n",
    "* Full project documentation on GitHub"
   ]
  },
  {
   "cell_type": "markdown",
   "id": "07deca48",
   "metadata": {},
   "source": [
    "<hr>"
   ]
  },
  {
   "cell_type": "markdown",
   "id": "ba687bf4",
   "metadata": {},
   "source": [
    "## ⚙️ Technologies to be used:\n",
    "* Python\n",
    "\n",
    "* Pandas, NumPy\n",
    "\n",
    "* Scikit-learn\n",
    "\n",
    "* NLTK / spaCy\n",
    "\n",
    "* TextBlob (for sentiment analysis)\n",
    "\n",
    "* Matplotlib / Seaborn\n",
    "\n",
    "* BeautifulSoup"
   ]
  }
 ],
 "metadata": {
  "kernelspec": {
   "display_name": ".venv",
   "language": "python",
   "name": "python3"
  },
  "language_info": {
   "name": "python",
   "version": "3.12.3"
  }
 },
 "nbformat": 4,
 "nbformat_minor": 5
}
