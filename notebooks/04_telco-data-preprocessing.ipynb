{
 "cells": [
  {
   "cell_type": "markdown",
   "id": "b47510f1",
   "metadata": {},
   "source": [
    "<p style=\"text-align:center\"> \n",
    "    <a href=\"https://www.linkedin.com/in/flavio-aguirre-12784a252/\" target=\"_blank\"> \n",
    "    <img src=\"../assets/logo.png\" width=\"200\" alt=\"Flavio Aguirre Logo\"> \n",
    "    </a>\n",
    "</p>\n",
    "\n",
    "<h1 align=\"center\"><font size=\"7\"><strong>📉 ByeBye Predictor</strong></font></h1>\n",
    "<br>\n",
    "<hr>"
   ]
  },
  {
   "cell_type": "markdown",
   "id": "339cd00c",
   "metadata": {},
   "source": [
    "## Telco Customer Data Preprocessing"
   ]
  },
  {
   "cell_type": "markdown",
   "id": "f840d598",
   "metadata": {},
   "source": [
    "At this stage, now that we know the dataset structures, we will focus on processing or curing the base dataset, that is, the \"telco-customers-churn\" dataset.\n",
    "\n",
    "``Objective``: Prepare a clean, consistent dataset in a format suitable for use by machine learning algorithms. This allows us to maximize the performance of the predictive model."
   ]
  },
  {
   "cell_type": "code",
   "execution_count": 129,
   "id": "3dd8c818",
   "metadata": {},
   "outputs": [],
   "source": [
    "# We import the necessary libraries for data manipulation.\n",
    "import pandas as pd\n",
    "import numpy as np\n",
    "\n",
    "from sklearn.preprocessing import StandardScaler\n",
    "\n",
    "# warning ignore\n",
    "import warnings\n",
    "warnings.filterwarnings(\"ignore\", category=FutureWarning)"
   ]
  },
  {
   "cell_type": "markdown",
   "id": "f0c8ddb7",
   "metadata": {},
   "source": [
    "<br>"
   ]
  },
  {
   "cell_type": "markdown",
   "id": "379c8260",
   "metadata": {},
   "source": [
    "<hr>"
   ]
  },
  {
   "cell_type": "markdown",
   "id": "2d24a03a",
   "metadata": {},
   "source": [
    "``In the previous notebook, we had worked on some data, such as formatting the \"Churn\" column, but we hadn't saved that update. We'll do everything in this notebook.``"
   ]
  },
  {
   "cell_type": "markdown",
   "id": "62179724",
   "metadata": {},
   "source": [
    "### ***Laod the dataset***"
   ]
  },
  {
   "cell_type": "code",
   "execution_count": 130,
   "id": "9592bbd6",
   "metadata": {},
   "outputs": [
    {
     "name": "stdout",
     "output_type": "stream",
     "text": [
      "\n",
      "Loading dataset...\n",
      "\n",
      "Dataset loaded successfully.\n",
      "\n",
      "Dataset shape: (7043, 21). \n",
      "\n"
     ]
    }
   ],
   "source": [
    "# Laod the dataset\n",
    "print(\"\\nLoading dataset...\")\n",
    "df_telco = pd.read_csv(\"../data/raw/telco-customer-churn.csv\")\n",
    "print(\"\\nDataset loaded successfully.\\n\")\n",
    "\n",
    "# Display the shape of the dataset\n",
    "print(f\"Dataset shape: {df_telco.shape}. \\n\")"
   ]
  },
  {
   "cell_type": "markdown",
   "id": "9d581dbf",
   "metadata": {},
   "source": [
    "As we had also seen in the EDA that was applied to this dataset in notebook 02, 2 types of data formats were defined, Numeric and categorical."
   ]
  },
  {
   "cell_type": "code",
   "execution_count": 131,
   "id": "7d042bba",
   "metadata": {},
   "outputs": [
    {
     "name": "stdout",
     "output_type": "stream",
     "text": [
      "\n",
      "Data types within the daset:\n",
      "\n",
      "Categorical columns:\n",
      "['customerID', 'gender', 'Partner', 'Dependents', 'PhoneService', 'MultipleLines', 'InternetService', 'OnlineSecurity', 'OnlineBackup', 'DeviceProtection', 'TechSupport', 'StreamingTV', 'StreamingMovies', 'Contract', 'PaperlessBilling', 'PaymentMethod', 'TotalCharges', 'Churn']\n",
      "Total number of categorical columns: 18\n",
      "\n",
      "Numerical columns:\n",
      "['SeniorCitizen', 'tenure', 'MonthlyCharges']\n",
      "Total number of numerical columns: 3\n",
      "\n",
      "Numerically encoded binary columns:\n",
      "['SeniorCitizen']\n",
      "Total number of numerically encoded binary columns: 1\n",
      "\n",
      "Continuous numeric columns:\n",
      "['tenure', 'MonthlyCharges']\n",
      "Total number of numerically continuous columns: 2\n"
     ]
    }
   ],
   "source": [
    "# We corroborate by separating each column with its data type\n",
    "categorical_columns = df_telco.select_dtypes(include=['object']).columns\n",
    "numerical_columns = df_telco.select_dtypes(include=[np.number]).columns\n",
    "\n",
    "print(\"\\nData types within the daset:\\n\")\n",
    "\n",
    "print(\"Categorical columns:\")\n",
    "print(categorical_columns.tolist())\n",
    "print(\"Total number of categorical columns:\", len(categorical_columns))\n",
    "\n",
    "print(\"\\nNumerical columns:\")\n",
    "print(numerical_columns.tolist())\n",
    "print(\"Total number of numerical columns:\", len(numerical_columns))\n",
    "\n",
    "# Detect numerically encoded binary\n",
    "numeric_binary = [col for col in numerical_columns if df_telco[col].nunique() == 2]\n",
    "continuous_numeric = [col for col in numerical_columns if col not in numeric_binary]\n",
    "\n",
    "print(\"\\nNumerically encoded binary columns:\")\n",
    "print(numeric_binary)\n",
    "print(\"Total number of numerically encoded binary columns:\", len(numeric_binary))\n",
    "print(\"\\nContinuous numeric columns:\")\n",
    "print(continuous_numeric)\n",
    "print(\"Total number of numerically continuous columns:\", len(continuous_numeric))"
   ]
  },
  {
   "cell_type": "markdown",
   "id": "172d67c3",
   "metadata": {},
   "source": [
    "<br>"
   ]
  },
  {
   "cell_type": "markdown",
   "id": "d594d7fa",
   "metadata": {},
   "source": [
    "### Data Formatting"
   ]
  },
  {
   "cell_type": "markdown",
   "id": "927bcd5e",
   "metadata": {},
   "source": [
    "***``'TotalCharge'``***\n",
    "\n",
    "We already know that despite being a categorical variable, ``'TotalCharge'`` refers to numerical values, and analyzing it provides much more context for understanding the relationship between customer tenure, monthly charges, and total billed amounts."
   ]
  },
  {
   "cell_type": "code",
   "execution_count": 132,
   "id": "3f0d24fa",
   "metadata": {},
   "outputs": [
    {
     "name": "stdout",
     "output_type": "stream",
     "text": [
      "\n",
      "'TotalCharges' was successfully converted to type: float64\n",
      "\n",
      "Numeric columns after conversion:\n",
      "['SeniorCitizen', 'tenure', 'MonthlyCharges', 'TotalCharges']\n"
     ]
    }
   ],
   "source": [
    "# Convert 'TotalCharges' to numeric type (replacing errors with NaN)\n",
    "df_telco['TotalCharges'] = pd.to_numeric(df_telco['TotalCharges'], errors='coerce')\n",
    "print(f\"\\n'TotalCharges' was successfully converted to type: {df_telco['TotalCharges'].dtypes}\\n\")\n",
    "\n",
    "# Select numeric columns after conversion\n",
    "numerical_columns = df_telco.select_dtypes(include=[np.number]).columns.tolist()\n",
    "print(\"Numeric columns after conversion:\")\n",
    "print(numerical_columns)"
   ]
  },
  {
   "cell_type": "markdown",
   "id": "37beb91f",
   "metadata": {},
   "source": [
    "***``'Churn'``***\n",
    "\n",
    "The target variable was also coded: ``'Churn'``"
   ]
  },
  {
   "cell_type": "code",
   "execution_count": 133,
   "id": "cf8e3b18",
   "metadata": {},
   "outputs": [
    {
     "name": "stdout",
     "output_type": "stream",
     "text": [
      "\n",
      "Initial format: object\n",
      "\n",
      "'Churn' successfully converted to numeric (0 = No, 1 = Yes)\n",
      "\n",
      "'Churn' final data type: int64\n",
      "\n"
     ]
    }
   ],
   "source": [
    "# Convert 'Churn' to binary values: 'Yes' → 1, 'No' → 0\n",
    "print(f\"\\nInitial format: {df_telco['Churn'].dtypes}\")\n",
    "df_telco['Churn'] = df_telco['Churn'].map({'Yes': 1, 'No': 0})\n",
    "print(\"\\n'Churn' successfully converted to numeric (0 = No, 1 = Yes)\\n\")\n",
    "print(f\"'Churn' final data type: {df_telco['Churn'].dtypes}\\n\")"
   ]
  },
  {
   "cell_type": "markdown",
   "id": "fd8b2b30",
   "metadata": {},
   "source": [
    "We add ``\"Churn\"`` to our ``\"numerical_columns\"`` list."
   ]
  },
  {
   "cell_type": "code",
   "execution_count": 134,
   "id": "10cd3f74",
   "metadata": {},
   "outputs": [
    {
     "name": "stdout",
     "output_type": "stream",
     "text": [
      "\n",
      "Numerical columns update: ['SeniorCitizen', 'tenure', 'MonthlyCharges', 'TotalCharges', 'Churn']\n"
     ]
    }
   ],
   "source": [
    "numerical_columns.append('Churn')\n",
    "print(f\"\\nNumerical columns update: {numerical_columns}\")"
   ]
  },
  {
   "cell_type": "markdown",
   "id": "30971f3a",
   "metadata": {},
   "source": [
    "We observe how the dataset looks:"
   ]
  },
  {
   "cell_type": "code",
   "execution_count": 135,
   "id": "83551951",
   "metadata": {},
   "outputs": [
    {
     "data": {
      "application/vnd.microsoft.datawrangler.viewer.v0+json": {
       "columns": [
        {
         "name": "index",
         "rawType": "object",
         "type": "string"
        },
        {
         "name": "count",
         "rawType": "float64",
         "type": "float"
        },
        {
         "name": "mean",
         "rawType": "float64",
         "type": "float"
        },
        {
         "name": "std",
         "rawType": "float64",
         "type": "float"
        },
        {
         "name": "min",
         "rawType": "float64",
         "type": "float"
        },
        {
         "name": "25%",
         "rawType": "float64",
         "type": "float"
        },
        {
         "name": "50%",
         "rawType": "float64",
         "type": "float"
        },
        {
         "name": "75%",
         "rawType": "float64",
         "type": "float"
        },
        {
         "name": "max",
         "rawType": "float64",
         "type": "float"
        }
       ],
       "ref": "7e368d71-f99b-4bf9-ad1c-09c60a966585",
       "rows": [
        [
         "SeniorCitizen",
         "7043.0",
         "0.1621468124378816",
         "0.3686116056100131",
         "0.0",
         "0.0",
         "0.0",
         "0.0",
         "1.0"
        ],
        [
         "tenure",
         "7043.0",
         "32.37114865824223",
         "24.55948102309446",
         "0.0",
         "9.0",
         "29.0",
         "55.0",
         "72.0"
        ],
        [
         "MonthlyCharges",
         "7043.0",
         "64.76169246059918",
         "30.090047097678493",
         "18.25",
         "35.5",
         "70.35",
         "89.85",
         "118.75"
        ],
        [
         "TotalCharges",
         "7032.0",
         "2283.3004408418656",
         "2266.771361883145",
         "18.8",
         "401.45",
         "1397.475",
         "3794.7375",
         "8684.8"
        ],
        [
         "Churn",
         "7043.0",
         "0.2653698707936959",
         "0.441561305121947",
         "0.0",
         "0.0",
         "0.0",
         "1.0",
         "1.0"
        ]
       ],
       "shape": {
        "columns": 8,
        "rows": 5
       }
      },
      "text/html": [
       "<div>\n",
       "<style scoped>\n",
       "    .dataframe tbody tr th:only-of-type {\n",
       "        vertical-align: middle;\n",
       "    }\n",
       "\n",
       "    .dataframe tbody tr th {\n",
       "        vertical-align: top;\n",
       "    }\n",
       "\n",
       "    .dataframe thead th {\n",
       "        text-align: right;\n",
       "    }\n",
       "</style>\n",
       "<table border=\"1\" class=\"dataframe\">\n",
       "  <thead>\n",
       "    <tr style=\"text-align: right;\">\n",
       "      <th></th>\n",
       "      <th>count</th>\n",
       "      <th>mean</th>\n",
       "      <th>std</th>\n",
       "      <th>min</th>\n",
       "      <th>25%</th>\n",
       "      <th>50%</th>\n",
       "      <th>75%</th>\n",
       "      <th>max</th>\n",
       "    </tr>\n",
       "  </thead>\n",
       "  <tbody>\n",
       "    <tr>\n",
       "      <th>SeniorCitizen</th>\n",
       "      <td>7043.0</td>\n",
       "      <td>0.162147</td>\n",
       "      <td>0.368612</td>\n",
       "      <td>0.00</td>\n",
       "      <td>0.00</td>\n",
       "      <td>0.000</td>\n",
       "      <td>0.0000</td>\n",
       "      <td>1.00</td>\n",
       "    </tr>\n",
       "    <tr>\n",
       "      <th>tenure</th>\n",
       "      <td>7043.0</td>\n",
       "      <td>32.371149</td>\n",
       "      <td>24.559481</td>\n",
       "      <td>0.00</td>\n",
       "      <td>9.00</td>\n",
       "      <td>29.000</td>\n",
       "      <td>55.0000</td>\n",
       "      <td>72.00</td>\n",
       "    </tr>\n",
       "    <tr>\n",
       "      <th>MonthlyCharges</th>\n",
       "      <td>7043.0</td>\n",
       "      <td>64.761692</td>\n",
       "      <td>30.090047</td>\n",
       "      <td>18.25</td>\n",
       "      <td>35.50</td>\n",
       "      <td>70.350</td>\n",
       "      <td>89.8500</td>\n",
       "      <td>118.75</td>\n",
       "    </tr>\n",
       "    <tr>\n",
       "      <th>TotalCharges</th>\n",
       "      <td>7032.0</td>\n",
       "      <td>2283.300441</td>\n",
       "      <td>2266.771362</td>\n",
       "      <td>18.80</td>\n",
       "      <td>401.45</td>\n",
       "      <td>1397.475</td>\n",
       "      <td>3794.7375</td>\n",
       "      <td>8684.80</td>\n",
       "    </tr>\n",
       "    <tr>\n",
       "      <th>Churn</th>\n",
       "      <td>7043.0</td>\n",
       "      <td>0.265370</td>\n",
       "      <td>0.441561</td>\n",
       "      <td>0.00</td>\n",
       "      <td>0.00</td>\n",
       "      <td>0.000</td>\n",
       "      <td>1.0000</td>\n",
       "      <td>1.00</td>\n",
       "    </tr>\n",
       "  </tbody>\n",
       "</table>\n",
       "</div>"
      ],
      "text/plain": [
       "                 count         mean          std    min     25%       50%  \\\n",
       "SeniorCitizen   7043.0     0.162147     0.368612   0.00    0.00     0.000   \n",
       "tenure          7043.0    32.371149    24.559481   0.00    9.00    29.000   \n",
       "MonthlyCharges  7043.0    64.761692    30.090047  18.25   35.50    70.350   \n",
       "TotalCharges    7032.0  2283.300441  2266.771362  18.80  401.45  1397.475   \n",
       "Churn           7043.0     0.265370     0.441561   0.00    0.00     0.000   \n",
       "\n",
       "                      75%      max  \n",
       "SeniorCitizen      0.0000     1.00  \n",
       "tenure            55.0000    72.00  \n",
       "MonthlyCharges    89.8500   118.75  \n",
       "TotalCharges    3794.7375  8684.80  \n",
       "Churn              1.0000     1.00  "
      ]
     },
     "execution_count": 135,
     "metadata": {},
     "output_type": "execute_result"
    }
   ],
   "source": [
    "df_telco[numerical_columns].describe().T"
   ]
  },
  {
   "cell_type": "markdown",
   "id": "4a1b5fff",
   "metadata": {},
   "source": [
    "<br>"
   ]
  },
  {
   "cell_type": "markdown",
   "id": "09f83af3",
   "metadata": {},
   "source": [
    "### Missing Values\n"
   ]
  },
  {
   "cell_type": "markdown",
   "id": "db0a3738",
   "metadata": {},
   "source": [
    "We confirm again how our daframe looks with its respective formatting in its data:"
   ]
  },
  {
   "cell_type": "code",
   "execution_count": 136,
   "id": "d3e01770",
   "metadata": {},
   "outputs": [
    {
     "name": "stdout",
     "output_type": "stream",
     "text": [
      "customerID           object\n",
      "gender               object\n",
      "SeniorCitizen         int64\n",
      "Partner              object\n",
      "Dependents           object\n",
      "tenure                int64\n",
      "PhoneService         object\n",
      "MultipleLines        object\n",
      "InternetService      object\n",
      "OnlineSecurity       object\n",
      "OnlineBackup         object\n",
      "DeviceProtection     object\n",
      "TechSupport          object\n",
      "StreamingTV          object\n",
      "StreamingMovies      object\n",
      "Contract             object\n",
      "PaperlessBilling     object\n",
      "PaymentMethod        object\n",
      "MonthlyCharges      float64\n",
      "TotalCharges        float64\n",
      "Churn                 int64\n",
      "dtype: object\n"
     ]
    }
   ],
   "source": [
    "print(df_telco.dtypes)"
   ]
  },
  {
   "cell_type": "markdown",
   "id": "b4d48fd8",
   "metadata": {},
   "source": [
    "Now let's see if there are any hidden missing values ​​with this change:"
   ]
  },
  {
   "cell_type": "code",
   "execution_count": 137,
   "id": "5614845b",
   "metadata": {},
   "outputs": [
    {
     "name": "stdout",
     "output_type": "stream",
     "text": [
      "\n",
      "Null values in the dataset:\n",
      "TotalCharges    11\n",
      "dtype: int64\n"
     ]
    }
   ],
   "source": [
    "print(\"\\nNull values in the dataset:\")\n",
    "missing_values = df_telco.isnull().sum()\n",
    "missing_values = missing_values[missing_values > 0]\n",
    "if not missing_values.empty:\n",
    "    print(missing_values)"
   ]
  },
  {
   "cell_type": "markdown",
   "id": "eb044c10",
   "metadata": {},
   "source": [
    "We see that we have ``11 missing values`` ​​in the ``TotalCharge`` column.\n",
    "Since there are only a few missing values, we'll proceed to eliminate them. If there were many, we would impute them."
   ]
  },
  {
   "cell_type": "code",
   "execution_count": 138,
   "id": "1626d598",
   "metadata": {},
   "outputs": [
    {
     "name": "stdout",
     "output_type": "stream",
     "text": [
      "\n",
      "Null values after dropping rows with NaN in 'TotalCharges':\n",
      "customerID          0\n",
      "gender              0\n",
      "SeniorCitizen       0\n",
      "Partner             0\n",
      "Dependents          0\n",
      "tenure              0\n",
      "PhoneService        0\n",
      "MultipleLines       0\n",
      "InternetService     0\n",
      "OnlineSecurity      0\n",
      "OnlineBackup        0\n",
      "DeviceProtection    0\n",
      "TechSupport         0\n",
      "StreamingTV         0\n",
      "StreamingMovies     0\n",
      "Contract            0\n",
      "PaperlessBilling    0\n",
      "PaymentMethod       0\n",
      "MonthlyCharges      0\n",
      "TotalCharges        0\n",
      "Churn               0\n",
      "dtype: int64\n"
     ]
    }
   ],
   "source": [
    "df_telco = df_telco.dropna(subset=['TotalCharges'])\n",
    "print(\"\\nNull values after dropping rows with NaN in 'TotalCharges':\")\n",
    "missing_values = df_telco.isnull().sum()\n",
    "print(missing_values)"
   ]
  },
  {
   "cell_type": "markdown",
   "id": "47cb49d9",
   "metadata": {},
   "source": [
    "***Why?***\n",
    "\n",
    "Incorrect or non-numeric values ​​in a continuous column prevent accurate model training."
   ]
  },
  {
   "cell_type": "markdown",
   "id": "2b4dd4c6",
   "metadata": {},
   "source": [
    "For this reason we are going to refine it a little more."
   ]
  },
  {
   "cell_type": "markdown",
   "id": "a11fb16e",
   "metadata": {},
   "source": [
    "<br>"
   ]
  },
  {
   "cell_type": "markdown",
   "id": "cbcdad03",
   "metadata": {},
   "source": [
    "### Type Conversion and Cleanup of Irrelevant Columns\n",
    "\n",
    "``Objective:``\n",
    "\n",
    "Remove columns with no predictive value (customerID), convert categorical variables to numeric (such as SeniorCitizen), and normalize names."
   ]
  },
  {
   "cell_type": "code",
   "execution_count": 139,
   "id": "a0bd0533",
   "metadata": {},
   "outputs": [
    {
     "name": "stdout",
     "output_type": "stream",
     "text": [
      "Categorical variables: ['gender', 'SeniorCitizen', 'Partner', 'Dependents', 'PhoneService', 'MultipleLines', 'InternetService', 'OnlineSecurity', 'OnlineBackup', 'DeviceProtection', 'TechSupport', 'StreamingTV', 'StreamingMovies', 'Contract', 'PaperlessBilling', 'PaymentMethod']\n"
     ]
    }
   ],
   "source": [
    "# We eliminate columns without predictive power\n",
    "df_telco = df_telco.drop(columns=['customerID'])\n",
    "\n",
    "# SeniorCitizen: Convert 0 and 1 to 'No' and 'Yes' for consistency with other columns\n",
    "df_telco['SeniorCitizen'] = df_telco['SeniorCitizen'].map({1: 'Yes', 0: 'No'})\n",
    "\n",
    "# We check for categorical data types\n",
    "categorical_cols = df_telco.select_dtypes(include='object').columns.tolist()\n",
    "print(\"Categorical variables:\", categorical_cols)"
   ]
  },
  {
   "cell_type": "markdown",
   "id": "3efe69f3",
   "metadata": {},
   "source": [
    "***Why?***\n",
    "\n",
    "* ``CustomerID is an identifier; it does not provide predictive information.``\n",
    "\n",
    "* ``Uniformizing SeniorCitizen`` allows it to be treated the same as other categorical variables by applying one-hot or label encoding."
   ]
  },
  {
   "cell_type": "markdown",
   "id": "1badca5e",
   "metadata": {},
   "source": [
    "### Encoding Categorical Variables\n",
    "\n",
    "``Objective:``\n",
    "\n",
    "Encode categorical variables so they are understandable by ML models. To do this, we'll use One-Hot Encoding for categorical variables."
   ]
  },
  {
   "cell_type": "code",
   "execution_count": 140,
   "id": "e28440a0",
   "metadata": {},
   "outputs": [
    {
     "name": "stdout",
     "output_type": "stream",
     "text": [
      "\n",
      "One-Hot Encoding applied to categorical variables.\n",
      "\n"
     ]
    }
   ],
   "source": [
    "# One-Hot Encoding (excluding target variable)\n",
    "df_telco_encoded = pd.get_dummies(df_telco.drop(columns='Churn'), drop_first=True)\n",
    "print(\"\\nOne-Hot Encoding applied to categorical variables.\\n\")"
   ]
  },
  {
   "cell_type": "code",
   "execution_count": 141,
   "id": "096b4641",
   "metadata": {},
   "outputs": [
    {
     "name": "stdout",
     "output_type": "stream",
     "text": [
      "\n",
      "Processed dataset shape: (7032, 30)\n",
      "\n"
     ]
    }
   ],
   "source": [
    "# Check the size of the processed dataset\n",
    "print(f\"\\nProcessed dataset shape: {df_telco_encoded.shape}\\n\")"
   ]
  },
  {
   "cell_type": "code",
   "execution_count": 142,
   "id": "f4999fb4",
   "metadata": {},
   "outputs": [
    {
     "name": "stdout",
     "output_type": "stream",
     "text": [
      "First few rows of the encoded dataset:\n"
     ]
    },
    {
     "data": {
      "application/vnd.microsoft.datawrangler.viewer.v0+json": {
       "columns": [
        {
         "name": "index",
         "rawType": "int64",
         "type": "integer"
        },
        {
         "name": "tenure",
         "rawType": "int64",
         "type": "integer"
        },
        {
         "name": "MonthlyCharges",
         "rawType": "float64",
         "type": "float"
        },
        {
         "name": "TotalCharges",
         "rawType": "float64",
         "type": "float"
        },
        {
         "name": "gender_Male",
         "rawType": "bool",
         "type": "boolean"
        },
        {
         "name": "SeniorCitizen_Yes",
         "rawType": "bool",
         "type": "boolean"
        },
        {
         "name": "Partner_Yes",
         "rawType": "bool",
         "type": "boolean"
        },
        {
         "name": "Dependents_Yes",
         "rawType": "bool",
         "type": "boolean"
        },
        {
         "name": "PhoneService_Yes",
         "rawType": "bool",
         "type": "boolean"
        },
        {
         "name": "MultipleLines_No phone service",
         "rawType": "bool",
         "type": "boolean"
        },
        {
         "name": "MultipleLines_Yes",
         "rawType": "bool",
         "type": "boolean"
        },
        {
         "name": "InternetService_Fiber optic",
         "rawType": "bool",
         "type": "boolean"
        },
        {
         "name": "InternetService_No",
         "rawType": "bool",
         "type": "boolean"
        },
        {
         "name": "OnlineSecurity_No internet service",
         "rawType": "bool",
         "type": "boolean"
        },
        {
         "name": "OnlineSecurity_Yes",
         "rawType": "bool",
         "type": "boolean"
        },
        {
         "name": "OnlineBackup_No internet service",
         "rawType": "bool",
         "type": "boolean"
        },
        {
         "name": "OnlineBackup_Yes",
         "rawType": "bool",
         "type": "boolean"
        },
        {
         "name": "DeviceProtection_No internet service",
         "rawType": "bool",
         "type": "boolean"
        },
        {
         "name": "DeviceProtection_Yes",
         "rawType": "bool",
         "type": "boolean"
        },
        {
         "name": "TechSupport_No internet service",
         "rawType": "bool",
         "type": "boolean"
        },
        {
         "name": "TechSupport_Yes",
         "rawType": "bool",
         "type": "boolean"
        },
        {
         "name": "StreamingTV_No internet service",
         "rawType": "bool",
         "type": "boolean"
        },
        {
         "name": "StreamingTV_Yes",
         "rawType": "bool",
         "type": "boolean"
        },
        {
         "name": "StreamingMovies_No internet service",
         "rawType": "bool",
         "type": "boolean"
        },
        {
         "name": "StreamingMovies_Yes",
         "rawType": "bool",
         "type": "boolean"
        },
        {
         "name": "Contract_One year",
         "rawType": "bool",
         "type": "boolean"
        },
        {
         "name": "Contract_Two year",
         "rawType": "bool",
         "type": "boolean"
        },
        {
         "name": "PaperlessBilling_Yes",
         "rawType": "bool",
         "type": "boolean"
        },
        {
         "name": "PaymentMethod_Credit card (automatic)",
         "rawType": "bool",
         "type": "boolean"
        },
        {
         "name": "PaymentMethod_Electronic check",
         "rawType": "bool",
         "type": "boolean"
        },
        {
         "name": "PaymentMethod_Mailed check",
         "rawType": "bool",
         "type": "boolean"
        }
       ],
       "ref": "17cc86fd-428e-4427-9c73-35ea4e216dc8",
       "rows": [
        [
         "0",
         "1",
         "29.85",
         "29.85",
         "False",
         "False",
         "True",
         "False",
         "False",
         "True",
         "False",
         "False",
         "False",
         "False",
         "False",
         "False",
         "True",
         "False",
         "False",
         "False",
         "False",
         "False",
         "False",
         "False",
         "False",
         "False",
         "False",
         "True",
         "False",
         "True",
         "False"
        ],
        [
         "1",
         "34",
         "56.95",
         "1889.5",
         "True",
         "False",
         "False",
         "False",
         "True",
         "False",
         "False",
         "False",
         "False",
         "False",
         "True",
         "False",
         "False",
         "False",
         "True",
         "False",
         "False",
         "False",
         "False",
         "False",
         "False",
         "True",
         "False",
         "False",
         "False",
         "False",
         "True"
        ],
        [
         "2",
         "2",
         "53.85",
         "108.15",
         "True",
         "False",
         "False",
         "False",
         "True",
         "False",
         "False",
         "False",
         "False",
         "False",
         "True",
         "False",
         "True",
         "False",
         "False",
         "False",
         "False",
         "False",
         "False",
         "False",
         "False",
         "False",
         "False",
         "True",
         "False",
         "False",
         "True"
        ],
        [
         "3",
         "45",
         "42.3",
         "1840.75",
         "True",
         "False",
         "False",
         "False",
         "False",
         "True",
         "False",
         "False",
         "False",
         "False",
         "True",
         "False",
         "False",
         "False",
         "True",
         "False",
         "True",
         "False",
         "False",
         "False",
         "False",
         "True",
         "False",
         "False",
         "False",
         "False",
         "False"
        ],
        [
         "4",
         "2",
         "70.7",
         "151.65",
         "False",
         "False",
         "False",
         "False",
         "True",
         "False",
         "False",
         "True",
         "False",
         "False",
         "False",
         "False",
         "False",
         "False",
         "False",
         "False",
         "False",
         "False",
         "False",
         "False",
         "False",
         "False",
         "False",
         "True",
         "False",
         "True",
         "False"
        ]
       ],
       "shape": {
        "columns": 30,
        "rows": 5
       }
      },
      "text/html": [
       "<div>\n",
       "<style scoped>\n",
       "    .dataframe tbody tr th:only-of-type {\n",
       "        vertical-align: middle;\n",
       "    }\n",
       "\n",
       "    .dataframe tbody tr th {\n",
       "        vertical-align: top;\n",
       "    }\n",
       "\n",
       "    .dataframe thead th {\n",
       "        text-align: right;\n",
       "    }\n",
       "</style>\n",
       "<table border=\"1\" class=\"dataframe\">\n",
       "  <thead>\n",
       "    <tr style=\"text-align: right;\">\n",
       "      <th></th>\n",
       "      <th>tenure</th>\n",
       "      <th>MonthlyCharges</th>\n",
       "      <th>TotalCharges</th>\n",
       "      <th>gender_Male</th>\n",
       "      <th>SeniorCitizen_Yes</th>\n",
       "      <th>Partner_Yes</th>\n",
       "      <th>Dependents_Yes</th>\n",
       "      <th>PhoneService_Yes</th>\n",
       "      <th>MultipleLines_No phone service</th>\n",
       "      <th>MultipleLines_Yes</th>\n",
       "      <th>...</th>\n",
       "      <th>StreamingTV_No internet service</th>\n",
       "      <th>StreamingTV_Yes</th>\n",
       "      <th>StreamingMovies_No internet service</th>\n",
       "      <th>StreamingMovies_Yes</th>\n",
       "      <th>Contract_One year</th>\n",
       "      <th>Contract_Two year</th>\n",
       "      <th>PaperlessBilling_Yes</th>\n",
       "      <th>PaymentMethod_Credit card (automatic)</th>\n",
       "      <th>PaymentMethod_Electronic check</th>\n",
       "      <th>PaymentMethod_Mailed check</th>\n",
       "    </tr>\n",
       "  </thead>\n",
       "  <tbody>\n",
       "    <tr>\n",
       "      <th>0</th>\n",
       "      <td>1</td>\n",
       "      <td>29.85</td>\n",
       "      <td>29.85</td>\n",
       "      <td>False</td>\n",
       "      <td>False</td>\n",
       "      <td>True</td>\n",
       "      <td>False</td>\n",
       "      <td>False</td>\n",
       "      <td>True</td>\n",
       "      <td>False</td>\n",
       "      <td>...</td>\n",
       "      <td>False</td>\n",
       "      <td>False</td>\n",
       "      <td>False</td>\n",
       "      <td>False</td>\n",
       "      <td>False</td>\n",
       "      <td>False</td>\n",
       "      <td>True</td>\n",
       "      <td>False</td>\n",
       "      <td>True</td>\n",
       "      <td>False</td>\n",
       "    </tr>\n",
       "    <tr>\n",
       "      <th>1</th>\n",
       "      <td>34</td>\n",
       "      <td>56.95</td>\n",
       "      <td>1889.50</td>\n",
       "      <td>True</td>\n",
       "      <td>False</td>\n",
       "      <td>False</td>\n",
       "      <td>False</td>\n",
       "      <td>True</td>\n",
       "      <td>False</td>\n",
       "      <td>False</td>\n",
       "      <td>...</td>\n",
       "      <td>False</td>\n",
       "      <td>False</td>\n",
       "      <td>False</td>\n",
       "      <td>False</td>\n",
       "      <td>True</td>\n",
       "      <td>False</td>\n",
       "      <td>False</td>\n",
       "      <td>False</td>\n",
       "      <td>False</td>\n",
       "      <td>True</td>\n",
       "    </tr>\n",
       "    <tr>\n",
       "      <th>2</th>\n",
       "      <td>2</td>\n",
       "      <td>53.85</td>\n",
       "      <td>108.15</td>\n",
       "      <td>True</td>\n",
       "      <td>False</td>\n",
       "      <td>False</td>\n",
       "      <td>False</td>\n",
       "      <td>True</td>\n",
       "      <td>False</td>\n",
       "      <td>False</td>\n",
       "      <td>...</td>\n",
       "      <td>False</td>\n",
       "      <td>False</td>\n",
       "      <td>False</td>\n",
       "      <td>False</td>\n",
       "      <td>False</td>\n",
       "      <td>False</td>\n",
       "      <td>True</td>\n",
       "      <td>False</td>\n",
       "      <td>False</td>\n",
       "      <td>True</td>\n",
       "    </tr>\n",
       "    <tr>\n",
       "      <th>3</th>\n",
       "      <td>45</td>\n",
       "      <td>42.30</td>\n",
       "      <td>1840.75</td>\n",
       "      <td>True</td>\n",
       "      <td>False</td>\n",
       "      <td>False</td>\n",
       "      <td>False</td>\n",
       "      <td>False</td>\n",
       "      <td>True</td>\n",
       "      <td>False</td>\n",
       "      <td>...</td>\n",
       "      <td>False</td>\n",
       "      <td>False</td>\n",
       "      <td>False</td>\n",
       "      <td>False</td>\n",
       "      <td>True</td>\n",
       "      <td>False</td>\n",
       "      <td>False</td>\n",
       "      <td>False</td>\n",
       "      <td>False</td>\n",
       "      <td>False</td>\n",
       "    </tr>\n",
       "    <tr>\n",
       "      <th>4</th>\n",
       "      <td>2</td>\n",
       "      <td>70.70</td>\n",
       "      <td>151.65</td>\n",
       "      <td>False</td>\n",
       "      <td>False</td>\n",
       "      <td>False</td>\n",
       "      <td>False</td>\n",
       "      <td>True</td>\n",
       "      <td>False</td>\n",
       "      <td>False</td>\n",
       "      <td>...</td>\n",
       "      <td>False</td>\n",
       "      <td>False</td>\n",
       "      <td>False</td>\n",
       "      <td>False</td>\n",
       "      <td>False</td>\n",
       "      <td>False</td>\n",
       "      <td>True</td>\n",
       "      <td>False</td>\n",
       "      <td>True</td>\n",
       "      <td>False</td>\n",
       "    </tr>\n",
       "  </tbody>\n",
       "</table>\n",
       "<p>5 rows × 30 columns</p>\n",
       "</div>"
      ],
      "text/plain": [
       "   tenure  MonthlyCharges  TotalCharges  gender_Male  SeniorCitizen_Yes  \\\n",
       "0       1           29.85         29.85        False              False   \n",
       "1      34           56.95       1889.50         True              False   \n",
       "2       2           53.85        108.15         True              False   \n",
       "3      45           42.30       1840.75         True              False   \n",
       "4       2           70.70        151.65        False              False   \n",
       "\n",
       "   Partner_Yes  Dependents_Yes  PhoneService_Yes  \\\n",
       "0         True           False             False   \n",
       "1        False           False              True   \n",
       "2        False           False              True   \n",
       "3        False           False             False   \n",
       "4        False           False              True   \n",
       "\n",
       "   MultipleLines_No phone service  MultipleLines_Yes  ...  \\\n",
       "0                            True              False  ...   \n",
       "1                           False              False  ...   \n",
       "2                           False              False  ...   \n",
       "3                            True              False  ...   \n",
       "4                           False              False  ...   \n",
       "\n",
       "   StreamingTV_No internet service  StreamingTV_Yes  \\\n",
       "0                            False            False   \n",
       "1                            False            False   \n",
       "2                            False            False   \n",
       "3                            False            False   \n",
       "4                            False            False   \n",
       "\n",
       "   StreamingMovies_No internet service  StreamingMovies_Yes  \\\n",
       "0                                False                False   \n",
       "1                                False                False   \n",
       "2                                False                False   \n",
       "3                                False                False   \n",
       "4                                False                False   \n",
       "\n",
       "   Contract_One year  Contract_Two year  PaperlessBilling_Yes  \\\n",
       "0              False              False                  True   \n",
       "1               True              False                 False   \n",
       "2              False              False                  True   \n",
       "3               True              False                 False   \n",
       "4              False              False                  True   \n",
       "\n",
       "   PaymentMethod_Credit card (automatic)  PaymentMethod_Electronic check  \\\n",
       "0                                  False                            True   \n",
       "1                                  False                           False   \n",
       "2                                  False                           False   \n",
       "3                                  False                           False   \n",
       "4                                  False                            True   \n",
       "\n",
       "   PaymentMethod_Mailed check  \n",
       "0                       False  \n",
       "1                        True  \n",
       "2                        True  \n",
       "3                       False  \n",
       "4                       False  \n",
       "\n",
       "[5 rows x 30 columns]"
      ]
     },
     "execution_count": 142,
     "metadata": {},
     "output_type": "execute_result"
    }
   ],
   "source": [
    "# Check the first few rows of the encoded dataset\n",
    "print(\"First few rows of the encoded dataset:\")\n",
    "df_telco_encoded.head()"
   ]
  },
  {
   "cell_type": "markdown",
   "id": "3861c909",
   "metadata": {},
   "source": [
    "We now see that we have 30 columns instead of the original 21."
   ]
  },
  {
   "cell_type": "markdown",
   "id": "2d57d5be",
   "metadata": {},
   "source": [
    "***Why?***\n",
    "\n",
    "* Machine learning models don't work with strings, so they must be transformed into numeric values.\n",
    "\n",
    "* We use ``drop_first=True`` to avoid multicollinearity (dummy trap)."
   ]
  },
  {
   "cell_type": "markdown",
   "id": "3dd171bb",
   "metadata": {},
   "source": [
    "<br>"
   ]
  },
  {
   "cell_type": "markdown",
   "id": "c55a8308",
   "metadata": {},
   "source": [
    "### Scaling of Numerical Variables\n",
    "\n",
    "``Objective:``\n",
    "\n",
    "Standardize data to test scale-sensitive algorithms (such as SVM, logistic regression)."
   ]
  },
  {
   "cell_type": "code",
   "execution_count": 143,
   "id": "acfc19a8",
   "metadata": {},
   "outputs": [
    {
     "name": "stdout",
     "output_type": "stream",
     "text": [
      "\n",
      "StandardScaler applied to numeric columns.\n",
      "\n"
     ]
    }
   ],
   "source": [
    "scaler = StandardScaler()\n",
    "numeric_cols = ['tenure', 'MonthlyCharges', 'TotalCharges']\n",
    "\n",
    "df_telco_encoded[numeric_cols] = scaler.fit_transform(df_telco_encoded[numeric_cols])\n",
    "print(\"\\nStandardScaler applied to numeric columns.\\n\")"
   ]
  },
  {
   "cell_type": "markdown",
   "id": "ddba9936",
   "metadata": {},
   "source": [
    "***Why?***\n",
    "\n",
    "Some models (not all) assume that the data are centered at 0 and have variance 1. If we choose to do so, we can actually worsen the performance of the models."
   ]
  },
  {
   "cell_type": "markdown",
   "id": "06623834",
   "metadata": {},
   "source": [
    "<br>"
   ]
  },
  {
   "cell_type": "markdown",
   "id": "74e3c5cf",
   "metadata": {},
   "source": [
    "### Saving the New Dataset\n",
    "\n",
    "Once cleaned, coded, and unified, we proceed to save the newly processed dataset to be used as input for the future ML model."
   ]
  },
  {
   "cell_type": "code",
   "execution_count": 144,
   "id": "0dd8b6c3",
   "metadata": {},
   "outputs": [
    {
     "name": "stdout",
     "output_type": "stream",
     "text": [
      "\n",
      "Churn column added back to the encoded dataset.\n",
      "\n"
     ]
    }
   ],
   "source": [
    "# First we add the Churn variable again\n",
    "df_telco_encoded['Churn'] = df_telco['Churn'].values\n",
    "print(\"\\nChurn column added back to the encoded dataset.\\n\")"
   ]
  },
  {
   "cell_type": "code",
   "execution_count": 145,
   "id": "a83eb35f",
   "metadata": {},
   "outputs": [
    {
     "name": "stdout",
     "output_type": "stream",
     "text": [
      "\n",
      "Final dataset shape: (7032, 31)\n",
      "\n",
      "Final dataset columns:\n",
      "['tenure', 'MonthlyCharges', 'TotalCharges', 'gender_Male', 'SeniorCitizen_Yes', 'Partner_Yes', 'Dependents_Yes', 'PhoneService_Yes', 'MultipleLines_No phone service', 'MultipleLines_Yes', 'InternetService_Fiber optic', 'InternetService_No', 'OnlineSecurity_No internet service', 'OnlineSecurity_Yes', 'OnlineBackup_No internet service', 'OnlineBackup_Yes', 'DeviceProtection_No internet service', 'DeviceProtection_Yes', 'TechSupport_No internet service', 'TechSupport_Yes', 'StreamingTV_No internet service', 'StreamingTV_Yes', 'StreamingMovies_No internet service', 'StreamingMovies_Yes', 'Contract_One year', 'Contract_Two year', 'PaperlessBilling_Yes', 'PaymentMethod_Credit card (automatic)', 'PaymentMethod_Electronic check', 'PaymentMethod_Mailed check', 'Churn']\n"
     ]
    }
   ],
   "source": [
    "# We verify the final dataset\n",
    "print(f\"\\nFinal dataset shape: {df_telco_encoded.shape}\\n\")\n",
    "print(\"Final dataset columns:\")\n",
    "print(df_telco_encoded.columns.tolist())"
   ]
  },
  {
   "cell_type": "code",
   "execution_count": 146,
   "id": "c0526d49",
   "metadata": {},
   "outputs": [
    {
     "name": "stdout",
     "output_type": "stream",
     "text": [
      "\n",
      "Data types in the final dataset:\n",
      "tenure                                   float64\n",
      "MonthlyCharges                           float64\n",
      "TotalCharges                             float64\n",
      "gender_Male                                 bool\n",
      "SeniorCitizen_Yes                           bool\n",
      "Partner_Yes                                 bool\n",
      "Dependents_Yes                              bool\n",
      "PhoneService_Yes                            bool\n",
      "MultipleLines_No phone service              bool\n",
      "MultipleLines_Yes                           bool\n",
      "InternetService_Fiber optic                 bool\n",
      "InternetService_No                          bool\n",
      "OnlineSecurity_No internet service          bool\n",
      "OnlineSecurity_Yes                          bool\n",
      "OnlineBackup_No internet service            bool\n",
      "OnlineBackup_Yes                            bool\n",
      "DeviceProtection_No internet service        bool\n",
      "DeviceProtection_Yes                        bool\n",
      "TechSupport_No internet service             bool\n",
      "TechSupport_Yes                             bool\n",
      "StreamingTV_No internet service             bool\n",
      "StreamingTV_Yes                             bool\n",
      "StreamingMovies_No internet service         bool\n",
      "StreamingMovies_Yes                         bool\n",
      "Contract_One year                           bool\n",
      "Contract_Two year                           bool\n",
      "PaperlessBilling_Yes                        bool\n",
      "PaymentMethod_Credit card (automatic)       bool\n",
      "PaymentMethod_Electronic check              bool\n",
      "PaymentMethod_Mailed check                  bool\n",
      "Churn                                      int64\n",
      "dtype: object\n"
     ]
    }
   ],
   "source": [
    "# Let's look at the data type of the final dataset\n",
    "print(\"\\nData types in the final dataset:\")\n",
    "print(df_telco_encoded.dtypes)"
   ]
  },
  {
   "cell_type": "markdown",
   "id": "7b2e0d1c",
   "metadata": {},
   "source": [
    "Once our columns are confirmed, we will standardize their names and then save them for the next step."
   ]
  },
  {
   "cell_type": "code",
   "execution_count": null,
   "id": "649320ff",
   "metadata": {},
   "outputs": [
    {
     "name": "stdout",
     "output_type": "stream",
     "text": [
      "\n",
      "Column names cleaned.\n",
      "\n"
     ]
    }
   ],
   "source": [
    "def clean_column_names(df):\n",
    "    df.columns = (\n",
    "        df.columns\n",
    "          .str.strip()\n",
    "          .str.lower()\n",
    "          .str.replace(' ', '_')\n",
    "          .str.replace('-', '_')\n",
    "          .str.replace(r'[^\\w_]', '', regex=True)\n",
    "    )\n",
    "    return df\n",
    "\n",
    "# Clean column names\n",
    "df_telco_encoded = clean_column_names(df_telco_encoded)\n",
    "print(\"\\nColumn names cleaned.\\n\")"
   ]
  },
  {
   "cell_type": "code",
   "execution_count": 151,
   "id": "2bc50ca4",
   "metadata": {},
   "outputs": [
    {
     "name": "stdout",
     "output_type": "stream",
     "text": [
      "Normalized column names:\n",
      "['tenure', 'monthlycharges', 'totalcharges', 'gender_male', 'seniorcitizen_yes', 'partner_yes', 'dependents_yes', 'phoneservice_yes', 'multiplelines_no_phone_service', 'multiplelines_yes', 'internetservice_fiber_optic', 'internetservice_no', 'onlinesecurity_no_internet_service', 'onlinesecurity_yes', 'onlinebackup_no_internet_service', 'onlinebackup_yes', 'deviceprotection_no_internet_service', 'deviceprotection_yes', 'techsupport_no_internet_service', 'techsupport_yes', 'streamingtv_no_internet_service', 'streamingtv_yes', 'streamingmovies_no_internet_service', 'streamingmovies_yes', 'contract_one_year', 'contract_two_year', 'paperlessbilling_yes', 'paymentmethod_credit_card_automatic', 'paymentmethod_electronic_check', 'paymentmethod_mailed_check', 'churn']\n"
     ]
    }
   ],
   "source": [
    "# Let's see the normalized column names\n",
    "print(\"Normalized column names:\")\n",
    "print(df_telco_encoded.columns.tolist())"
   ]
  },
  {
   "cell_type": "markdown",
   "id": "1d36b226",
   "metadata": {},
   "source": [
    "Finally, we save our curated dataset."
   ]
  },
  {
   "cell_type": "code",
   "execution_count": 152,
   "id": "0abcc212",
   "metadata": {},
   "outputs": [
    {
     "name": "stdout",
     "output_type": "stream",
     "text": [
      "Processed dataset saved successfully.\n",
      "\n"
     ]
    }
   ],
   "source": [
    "# We save the processed dataset\n",
    "df_telco_encoded.to_csv(\"../data/processed/telco-customer-churn-processed.csv\", index=False)\n",
    "print(\"Processed dataset saved successfully.\\n\")"
   ]
  },
  {
   "cell_type": "markdown",
   "id": "8913dab4",
   "metadata": {},
   "source": [
    "<br>"
   ]
  },
  {
   "cell_type": "markdown",
   "id": "b504b30c",
   "metadata": {},
   "source": [
    "<hr>"
   ]
  },
  {
   "cell_type": "markdown",
   "id": "dd60d196",
   "metadata": {},
   "source": [
    "## Author\n",
    "\n",
    "<a href=\"https://www.linkedin.com/in/flavio-aguirre-12784a252/\">**Flavio Aguirre**</a>\n",
    "<br>\n",
    "<a href=\"https://coursera.org/share/e27ae5af81b56f99a2aa85289b7cdd04\">***Data Scientist***</a>"
   ]
  }
 ],
 "metadata": {
  "kernelspec": {
   "display_name": ".venv",
   "language": "python",
   "name": "python3"
  },
  "language_info": {
   "codemirror_mode": {
    "name": "ipython",
    "version": 3
   },
   "file_extension": ".py",
   "mimetype": "text/x-python",
   "name": "python",
   "nbconvert_exporter": "python",
   "pygments_lexer": "ipython3",
   "version": "3.12.3"
  }
 },
 "nbformat": 4,
 "nbformat_minor": 5
}
