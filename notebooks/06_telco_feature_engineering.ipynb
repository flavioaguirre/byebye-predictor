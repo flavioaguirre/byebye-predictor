{
 "cells": [
  {
   "cell_type": "markdown",
   "id": "9e32dc6c",
   "metadata": {},
   "source": [
    "<p style=\"text-align:center\"> \n",
    "    <a href=\"https://www.linkedin.com/in/flavio-aguirre-12784a252/\" target=\"_blank\"> \n",
    "    <img src=\"../assets/logo.png\" width=\"200\" alt=\"Flavio Aguirre Logo\"> \n",
    "    </a>\n",
    "</p>\n",
    "\n",
    "<h1 align=\"center\"><font size=\"7\"><strong>📉 ByeBye Predictor</strong></font></h1>\n",
    "<br>\n",
    "<hr>"
   ]
  },
  {
   "cell_type": "markdown",
   "id": "d778874a",
   "metadata": {},
   "source": [
    "## TELCO Feature Engineering\n",
    "\n",
    "Now that we've created our baselines and are able to gather very important data on how they performed with raw data alone, we'll now try to improve their performance by enhancing the dataset with new labels, thus providing more information to the models, allowing them to find better patterns and relationships in the data."
   ]
  },
  {
   "cell_type": "markdown",
   "id": "af69398d",
   "metadata": {},
   "source": [
    "``Objective:`` Improve the quality of the Telco dataset by transforming and creating new variables to optimize the performance of churn prediction models."
   ]
  },
  {
   "cell_type": "code",
   "execution_count": 63,
   "id": "08798849",
   "metadata": {},
   "outputs": [],
   "source": [
    "import pandas as pd\n",
    "import numpy as np\n",
    "\n",
    "from sklearn.ensemble import RandomForestClassifier\n",
    "from sklearn.model_selection import train_test_split\n",
    "from sklearn.metrics import classification_report, recall_score\n",
    "\n",
    "import warnings\n",
    "warnings.filterwarnings(\"ignore\", category=FutureWarning)"
   ]
  },
  {
   "cell_type": "markdown",
   "id": "efcff03d",
   "metadata": {},
   "source": [
    "<br>"
   ]
  },
  {
   "cell_type": "markdown",
   "id": "9b86b791",
   "metadata": {},
   "source": [
    "<hr>"
   ]
  },
  {
   "cell_type": "markdown",
   "id": "6bdec04f",
   "metadata": {},
   "source": [
    "### Load Dataset"
   ]
  },
  {
   "cell_type": "code",
   "execution_count": 71,
   "id": "6c3b8b2f",
   "metadata": {},
   "outputs": [
    {
     "data": {
      "application/vnd.microsoft.datawrangler.viewer.v0+json": {
       "columns": [
        {
         "name": "index",
         "rawType": "int64",
         "type": "integer"
        },
        {
         "name": "tenure",
         "rawType": "float64",
         "type": "float"
        },
        {
         "name": "monthlycharges",
         "rawType": "float64",
         "type": "float"
        },
        {
         "name": "totalcharges",
         "rawType": "float64",
         "type": "float"
        },
        {
         "name": "gender_male",
         "rawType": "bool",
         "type": "boolean"
        },
        {
         "name": "seniorcitizen_yes",
         "rawType": "bool",
         "type": "boolean"
        },
        {
         "name": "partner_yes",
         "rawType": "bool",
         "type": "boolean"
        },
        {
         "name": "dependents_yes",
         "rawType": "bool",
         "type": "boolean"
        },
        {
         "name": "phoneservice_yes",
         "rawType": "bool",
         "type": "boolean"
        },
        {
         "name": "multiplelines_no_phone_service",
         "rawType": "bool",
         "type": "boolean"
        },
        {
         "name": "multiplelines_yes",
         "rawType": "bool",
         "type": "boolean"
        },
        {
         "name": "internetservice_fiber_optic",
         "rawType": "bool",
         "type": "boolean"
        },
        {
         "name": "internetservice_no",
         "rawType": "bool",
         "type": "boolean"
        },
        {
         "name": "onlinesecurity_no_internet_service",
         "rawType": "bool",
         "type": "boolean"
        },
        {
         "name": "onlinesecurity_yes",
         "rawType": "bool",
         "type": "boolean"
        },
        {
         "name": "onlinebackup_no_internet_service",
         "rawType": "bool",
         "type": "boolean"
        },
        {
         "name": "onlinebackup_yes",
         "rawType": "bool",
         "type": "boolean"
        },
        {
         "name": "deviceprotection_no_internet_service",
         "rawType": "bool",
         "type": "boolean"
        },
        {
         "name": "deviceprotection_yes",
         "rawType": "bool",
         "type": "boolean"
        },
        {
         "name": "techsupport_no_internet_service",
         "rawType": "bool",
         "type": "boolean"
        },
        {
         "name": "techsupport_yes",
         "rawType": "bool",
         "type": "boolean"
        },
        {
         "name": "streamingtv_no_internet_service",
         "rawType": "bool",
         "type": "boolean"
        },
        {
         "name": "streamingtv_yes",
         "rawType": "bool",
         "type": "boolean"
        },
        {
         "name": "streamingmovies_no_internet_service",
         "rawType": "bool",
         "type": "boolean"
        },
        {
         "name": "streamingmovies_yes",
         "rawType": "bool",
         "type": "boolean"
        },
        {
         "name": "contract_one_year",
         "rawType": "bool",
         "type": "boolean"
        },
        {
         "name": "contract_two_year",
         "rawType": "bool",
         "type": "boolean"
        },
        {
         "name": "paperlessbilling_yes",
         "rawType": "bool",
         "type": "boolean"
        },
        {
         "name": "paymentmethod_credit_card_automatic",
         "rawType": "bool",
         "type": "boolean"
        },
        {
         "name": "paymentmethod_electronic_check",
         "rawType": "bool",
         "type": "boolean"
        },
        {
         "name": "paymentmethod_mailed_check",
         "rawType": "bool",
         "type": "boolean"
        },
        {
         "name": "churn",
         "rawType": "int64",
         "type": "integer"
        }
       ],
       "ref": "66a5faff-d946-4e73-b8ee-fdc5b3ae79a1",
       "rows": [
        [
         "0",
         "-1.2802480369298874",
         "-1.1616939352451685",
         "-0.9941940877241976",
         "False",
         "False",
         "True",
         "False",
         "False",
         "True",
         "False",
         "False",
         "False",
         "False",
         "False",
         "False",
         "True",
         "False",
         "False",
         "False",
         "False",
         "False",
         "False",
         "False",
         "False",
         "False",
         "False",
         "True",
         "False",
         "True",
         "False",
         "0"
        ],
        [
         "1",
         "0.0643026851883519",
         "-0.2608779199297493",
         "-0.1737398182504072",
         "True",
         "False",
         "False",
         "False",
         "True",
         "False",
         "False",
         "False",
         "False",
         "False",
         "True",
         "False",
         "False",
         "False",
         "True",
         "False",
         "False",
         "False",
         "False",
         "False",
         "False",
         "True",
         "False",
         "False",
         "False",
         "False",
         "True",
         "0"
        ],
        [
         "2",
         "-1.2395040756535771",
         "-0.3639232943754246",
         "-0.9596491092068434",
         "True",
         "False",
         "False",
         "False",
         "True",
         "False",
         "False",
         "False",
         "False",
         "False",
         "True",
         "False",
         "True",
         "False",
         "False",
         "False",
         "False",
         "False",
         "False",
         "False",
         "False",
         "False",
         "False",
         "True",
         "False",
         "False",
         "True",
         "1"
        ],
        [
         "3",
         "0.512486259227765",
         "-0.747850415293989",
         "-0.1952477071740473",
         "True",
         "False",
         "False",
         "False",
         "False",
         "True",
         "False",
         "False",
         "False",
         "False",
         "True",
         "False",
         "False",
         "False",
         "True",
         "False",
         "True",
         "False",
         "False",
         "False",
         "False",
         "True",
         "False",
         "False",
         "False",
         "False",
         "False",
         "0"
        ],
        [
         "4",
         "-1.2395040756535771",
         "0.1961781764018748",
         "-0.94045745447498",
         "False",
         "False",
         "False",
         "False",
         "True",
         "False",
         "False",
         "True",
         "False",
         "False",
         "False",
         "False",
         "False",
         "False",
         "False",
         "False",
         "False",
         "False",
         "False",
         "False",
         "False",
         "False",
         "False",
         "True",
         "False",
         "True",
         "False",
         "1"
        ]
       ],
       "shape": {
        "columns": 31,
        "rows": 5
       }
      },
      "text/html": [
       "<div>\n",
       "<style scoped>\n",
       "    .dataframe tbody tr th:only-of-type {\n",
       "        vertical-align: middle;\n",
       "    }\n",
       "\n",
       "    .dataframe tbody tr th {\n",
       "        vertical-align: top;\n",
       "    }\n",
       "\n",
       "    .dataframe thead th {\n",
       "        text-align: right;\n",
       "    }\n",
       "</style>\n",
       "<table border=\"1\" class=\"dataframe\">\n",
       "  <thead>\n",
       "    <tr style=\"text-align: right;\">\n",
       "      <th></th>\n",
       "      <th>tenure</th>\n",
       "      <th>monthlycharges</th>\n",
       "      <th>totalcharges</th>\n",
       "      <th>gender_male</th>\n",
       "      <th>seniorcitizen_yes</th>\n",
       "      <th>partner_yes</th>\n",
       "      <th>dependents_yes</th>\n",
       "      <th>phoneservice_yes</th>\n",
       "      <th>multiplelines_no_phone_service</th>\n",
       "      <th>multiplelines_yes</th>\n",
       "      <th>...</th>\n",
       "      <th>streamingtv_yes</th>\n",
       "      <th>streamingmovies_no_internet_service</th>\n",
       "      <th>streamingmovies_yes</th>\n",
       "      <th>contract_one_year</th>\n",
       "      <th>contract_two_year</th>\n",
       "      <th>paperlessbilling_yes</th>\n",
       "      <th>paymentmethod_credit_card_automatic</th>\n",
       "      <th>paymentmethod_electronic_check</th>\n",
       "      <th>paymentmethod_mailed_check</th>\n",
       "      <th>churn</th>\n",
       "    </tr>\n",
       "  </thead>\n",
       "  <tbody>\n",
       "    <tr>\n",
       "      <th>0</th>\n",
       "      <td>-1.280248</td>\n",
       "      <td>-1.161694</td>\n",
       "      <td>-0.994194</td>\n",
       "      <td>False</td>\n",
       "      <td>False</td>\n",
       "      <td>True</td>\n",
       "      <td>False</td>\n",
       "      <td>False</td>\n",
       "      <td>True</td>\n",
       "      <td>False</td>\n",
       "      <td>...</td>\n",
       "      <td>False</td>\n",
       "      <td>False</td>\n",
       "      <td>False</td>\n",
       "      <td>False</td>\n",
       "      <td>False</td>\n",
       "      <td>True</td>\n",
       "      <td>False</td>\n",
       "      <td>True</td>\n",
       "      <td>False</td>\n",
       "      <td>0</td>\n",
       "    </tr>\n",
       "    <tr>\n",
       "      <th>1</th>\n",
       "      <td>0.064303</td>\n",
       "      <td>-0.260878</td>\n",
       "      <td>-0.173740</td>\n",
       "      <td>True</td>\n",
       "      <td>False</td>\n",
       "      <td>False</td>\n",
       "      <td>False</td>\n",
       "      <td>True</td>\n",
       "      <td>False</td>\n",
       "      <td>False</td>\n",
       "      <td>...</td>\n",
       "      <td>False</td>\n",
       "      <td>False</td>\n",
       "      <td>False</td>\n",
       "      <td>True</td>\n",
       "      <td>False</td>\n",
       "      <td>False</td>\n",
       "      <td>False</td>\n",
       "      <td>False</td>\n",
       "      <td>True</td>\n",
       "      <td>0</td>\n",
       "    </tr>\n",
       "    <tr>\n",
       "      <th>2</th>\n",
       "      <td>-1.239504</td>\n",
       "      <td>-0.363923</td>\n",
       "      <td>-0.959649</td>\n",
       "      <td>True</td>\n",
       "      <td>False</td>\n",
       "      <td>False</td>\n",
       "      <td>False</td>\n",
       "      <td>True</td>\n",
       "      <td>False</td>\n",
       "      <td>False</td>\n",
       "      <td>...</td>\n",
       "      <td>False</td>\n",
       "      <td>False</td>\n",
       "      <td>False</td>\n",
       "      <td>False</td>\n",
       "      <td>False</td>\n",
       "      <td>True</td>\n",
       "      <td>False</td>\n",
       "      <td>False</td>\n",
       "      <td>True</td>\n",
       "      <td>1</td>\n",
       "    </tr>\n",
       "    <tr>\n",
       "      <th>3</th>\n",
       "      <td>0.512486</td>\n",
       "      <td>-0.747850</td>\n",
       "      <td>-0.195248</td>\n",
       "      <td>True</td>\n",
       "      <td>False</td>\n",
       "      <td>False</td>\n",
       "      <td>False</td>\n",
       "      <td>False</td>\n",
       "      <td>True</td>\n",
       "      <td>False</td>\n",
       "      <td>...</td>\n",
       "      <td>False</td>\n",
       "      <td>False</td>\n",
       "      <td>False</td>\n",
       "      <td>True</td>\n",
       "      <td>False</td>\n",
       "      <td>False</td>\n",
       "      <td>False</td>\n",
       "      <td>False</td>\n",
       "      <td>False</td>\n",
       "      <td>0</td>\n",
       "    </tr>\n",
       "    <tr>\n",
       "      <th>4</th>\n",
       "      <td>-1.239504</td>\n",
       "      <td>0.196178</td>\n",
       "      <td>-0.940457</td>\n",
       "      <td>False</td>\n",
       "      <td>False</td>\n",
       "      <td>False</td>\n",
       "      <td>False</td>\n",
       "      <td>True</td>\n",
       "      <td>False</td>\n",
       "      <td>False</td>\n",
       "      <td>...</td>\n",
       "      <td>False</td>\n",
       "      <td>False</td>\n",
       "      <td>False</td>\n",
       "      <td>False</td>\n",
       "      <td>False</td>\n",
       "      <td>True</td>\n",
       "      <td>False</td>\n",
       "      <td>True</td>\n",
       "      <td>False</td>\n",
       "      <td>1</td>\n",
       "    </tr>\n",
       "  </tbody>\n",
       "</table>\n",
       "<p>5 rows × 31 columns</p>\n",
       "</div>"
      ],
      "text/plain": [
       "     tenure  monthlycharges  totalcharges  gender_male  seniorcitizen_yes  \\\n",
       "0 -1.280248       -1.161694     -0.994194        False              False   \n",
       "1  0.064303       -0.260878     -0.173740         True              False   \n",
       "2 -1.239504       -0.363923     -0.959649         True              False   \n",
       "3  0.512486       -0.747850     -0.195248         True              False   \n",
       "4 -1.239504        0.196178     -0.940457        False              False   \n",
       "\n",
       "   partner_yes  dependents_yes  phoneservice_yes  \\\n",
       "0         True           False             False   \n",
       "1        False           False              True   \n",
       "2        False           False              True   \n",
       "3        False           False             False   \n",
       "4        False           False              True   \n",
       "\n",
       "   multiplelines_no_phone_service  multiplelines_yes  ...  streamingtv_yes  \\\n",
       "0                            True              False  ...            False   \n",
       "1                           False              False  ...            False   \n",
       "2                           False              False  ...            False   \n",
       "3                            True              False  ...            False   \n",
       "4                           False              False  ...            False   \n",
       "\n",
       "   streamingmovies_no_internet_service  streamingmovies_yes  \\\n",
       "0                                False                False   \n",
       "1                                False                False   \n",
       "2                                False                False   \n",
       "3                                False                False   \n",
       "4                                False                False   \n",
       "\n",
       "   contract_one_year  contract_two_year  paperlessbilling_yes  \\\n",
       "0              False              False                  True   \n",
       "1               True              False                 False   \n",
       "2              False              False                  True   \n",
       "3               True              False                 False   \n",
       "4              False              False                  True   \n",
       "\n",
       "   paymentmethod_credit_card_automatic  paymentmethod_electronic_check  \\\n",
       "0                                False                            True   \n",
       "1                                False                           False   \n",
       "2                                False                           False   \n",
       "3                                False                           False   \n",
       "4                                False                            True   \n",
       "\n",
       "   paymentmethod_mailed_check  churn  \n",
       "0                       False      0  \n",
       "1                        True      0  \n",
       "2                        True      1  \n",
       "3                       False      0  \n",
       "4                       False      1  \n",
       "\n",
       "[5 rows x 31 columns]"
      ]
     },
     "execution_count": 71,
     "metadata": {},
     "output_type": "execute_result"
    }
   ],
   "source": [
    "df = pd.read_csv('../data/processed/telco-customer-churn-processed.csv')\n",
    "df.head()"
   ]
  },
  {
   "cell_type": "markdown",
   "id": "6897e9ef",
   "metadata": {},
   "source": [
    "### Creating new features with business sense\n",
    "\n",
    "We must understand that these new variables should allow us to capture non-obvious patterns, such as those based on domain experience and customer behavior.\n",
    "\n",
    "Therefore, the following new features are created:"
   ]
  },
  {
   "cell_type": "markdown",
   "id": "aa716aee",
   "metadata": {},
   "source": [
    "* ``Average monthly spending``:\n",
    "\n",
    "**Why?** \n",
    "\n",
    "Customers who pay more monthly may be at greater risk of churn if they don't perceive value."
   ]
  },
  {
   "cell_type": "code",
   "execution_count": 72,
   "id": "bec347cc",
   "metadata": {},
   "outputs": [],
   "source": [
    "# avg_monthly_spend:\n",
    "df[\"avg_monthly_spend\"] = df[\"totalcharges\"] / (df[\"tenure\"] + 1)"
   ]
  },
  {
   "cell_type": "markdown",
   "id": "7072ff85",
   "metadata": {},
   "source": [
    "<br>"
   ]
  },
  {
   "cell_type": "markdown",
   "id": "abc44cf3",
   "metadata": {},
   "source": [
    "* ``New Customer`` (less than 6 months):\n",
    "\n",
    "**Why?** \n",
    "\n",
    "New customers tend to have a higher churn rate (they're not yet loyal)."
   ]
  },
  {
   "cell_type": "code",
   "execution_count": 73,
   "id": "f67a8deb",
   "metadata": {},
   "outputs": [],
   "source": [
    "# is_new_customer:\n",
    "df[\"is_new_customer\"] = df[\"tenure\"] < 6"
   ]
  },
  {
   "cell_type": "markdown",
   "id": "d827b0df",
   "metadata": {},
   "source": [
    "<br>"
   ]
  },
  {
   "cell_type": "markdown",
   "id": "11e8f535",
   "metadata": {},
   "source": [
    "* ``Loyal Customer`` (more than 60 months):\n",
    "\n",
    "**Why?** \n",
    "\n",
    "Long-term customers may have different patterns and a lower risk of churn."
   ]
  },
  {
   "cell_type": "code",
   "execution_count": 74,
   "id": "209180ca",
   "metadata": {},
   "outputs": [],
   "source": [
    "# is_loyal_customer:\n",
    "df[\"is_loyal_customer\"] = df[\"tenure\"] > 60"
   ]
  },
  {
   "cell_type": "markdown",
   "id": "cd9ee721",
   "metadata": {},
   "source": [
    "<br>"
   ]
  },
  {
   "cell_type": "markdown",
   "id": "c211511c",
   "metadata": {},
   "source": [
    "* ``High-spending customer`` (monthly charges > average):\n",
    "\n",
    "**Why?**\n",
    "\n",
    " High-spending customers tend to have higher expectations and be more sensitive to issues or prices."
   ]
  },
  {
   "cell_type": "code",
   "execution_count": 75,
   "id": "686334c2",
   "metadata": {},
   "outputs": [],
   "source": [
    "# high_spender\n",
    "df[\"high_spender\"] = df[\"monthlycharges\"] > df[\"monthlycharges\"].mean()"
   ]
  },
  {
   "cell_type": "markdown",
   "id": "41aabcb5",
   "metadata": {},
   "source": [
    "<br>"
   ]
  },
  {
   "cell_type": "markdown",
   "id": "e8c33b19",
   "metadata": {},
   "source": [
    "* ``Fiber optics = long-term contract``:\n",
    "\n",
    "**Why?** \n",
    "\n",
    "This combination may indicate loyalty (premium service + long-term contract)."
   ]
  },
  {
   "cell_type": "code",
   "execution_count": 76,
   "id": "c8be6bd4",
   "metadata": {},
   "outputs": [],
   "source": [
    "# has_fiber_contract:\n",
    "df[\"has_fiber_contract\"] = df[\"internetservice_fiber_optic\"] & (\n",
    "    df[\"contract_two_year\"] | df[\"contract_one_year\"]\n",
    ")"
   ]
  },
  {
   "cell_type": "markdown",
   "id": "4fa09365",
   "metadata": {},
   "source": [
    "<br>"
   ]
  },
  {
   "cell_type": "markdown",
   "id": "ec3fbf88",
   "metadata": {},
   "source": [
    "* ``Total number of contracted services``:\n",
    "\n",
    "**Why?** \n",
    "\n",
    "The more contracted services, the more expensive it is for the customer to switch providers."
   ]
  },
  {
   "cell_type": "code",
   "execution_count": 77,
   "id": "8a644b9e",
   "metadata": {},
   "outputs": [],
   "source": [
    "# num_services\n",
    "service_cols = [\n",
    "    \"phoneservice_yes\", \"multiplelines_yes\", \"onlinebackup_yes\", \"onlinesecurity_yes\",\n",
    "    \"deviceprotection_yes\", \"techsupport_yes\", \"streamingtv_yes\", \"streamingmovies_yes\"\n",
    "]\n",
    "\n",
    "df[\"num_services\"] = df[service_cols].sum(axis=1)"
   ]
  },
  {
   "cell_type": "markdown",
   "id": "de1c4eaf",
   "metadata": {},
   "source": [
    "<br>"
   ]
  },
  {
   "cell_type": "markdown",
   "id": "244f661b",
   "metadata": {},
   "source": [
    "### Checking for new variables"
   ]
  },
  {
   "cell_type": "code",
   "execution_count": 78,
   "id": "249b6d64",
   "metadata": {},
   "outputs": [
    {
     "data": {
      "application/vnd.microsoft.datawrangler.viewer.v0+json": {
       "columns": [
        {
         "name": "index",
         "rawType": "object",
         "type": "string"
        },
        {
         "name": "avg_monthly_spend",
         "rawType": "float64",
         "type": "float"
        },
        {
         "name": "num_services",
         "rawType": "float64",
         "type": "float"
        }
       ],
       "ref": "ff3c0ff1-e3f9-4a79-a350-7cb194318787",
       "rows": [
        [
         "count",
         "7032.0",
         "7032.0"
        ],
        [
         "mean",
         "-2.011539906323689",
         "3.363339021615472"
        ],
        [
         "std",
         "22.031628907578288",
         "2.0620673753057757"
        ],
        [
         "min",
         "-191.9907727329241",
         "0.0"
        ],
        [
         "25%",
         "-0.45047754260860984",
         "1.0"
        ],
        [
         "50%",
         "0.34007951873268893",
         "3.0"
        ],
        [
         "75%",
         "0.941223220384805",
         "5.0"
        ],
        [
         "max",
         "26.957560027356866",
         "8.0"
        ]
       ],
       "shape": {
        "columns": 2,
        "rows": 8
       }
      },
      "text/html": [
       "<div>\n",
       "<style scoped>\n",
       "    .dataframe tbody tr th:only-of-type {\n",
       "        vertical-align: middle;\n",
       "    }\n",
       "\n",
       "    .dataframe tbody tr th {\n",
       "        vertical-align: top;\n",
       "    }\n",
       "\n",
       "    .dataframe thead th {\n",
       "        text-align: right;\n",
       "    }\n",
       "</style>\n",
       "<table border=\"1\" class=\"dataframe\">\n",
       "  <thead>\n",
       "    <tr style=\"text-align: right;\">\n",
       "      <th></th>\n",
       "      <th>avg_monthly_spend</th>\n",
       "      <th>num_services</th>\n",
       "    </tr>\n",
       "  </thead>\n",
       "  <tbody>\n",
       "    <tr>\n",
       "      <th>count</th>\n",
       "      <td>7032.000000</td>\n",
       "      <td>7032.000000</td>\n",
       "    </tr>\n",
       "    <tr>\n",
       "      <th>mean</th>\n",
       "      <td>-2.011540</td>\n",
       "      <td>3.363339</td>\n",
       "    </tr>\n",
       "    <tr>\n",
       "      <th>std</th>\n",
       "      <td>22.031629</td>\n",
       "      <td>2.062067</td>\n",
       "    </tr>\n",
       "    <tr>\n",
       "      <th>min</th>\n",
       "      <td>-191.990773</td>\n",
       "      <td>0.000000</td>\n",
       "    </tr>\n",
       "    <tr>\n",
       "      <th>25%</th>\n",
       "      <td>-0.450478</td>\n",
       "      <td>1.000000</td>\n",
       "    </tr>\n",
       "    <tr>\n",
       "      <th>50%</th>\n",
       "      <td>0.340080</td>\n",
       "      <td>3.000000</td>\n",
       "    </tr>\n",
       "    <tr>\n",
       "      <th>75%</th>\n",
       "      <td>0.941223</td>\n",
       "      <td>5.000000</td>\n",
       "    </tr>\n",
       "    <tr>\n",
       "      <th>max</th>\n",
       "      <td>26.957560</td>\n",
       "      <td>8.000000</td>\n",
       "    </tr>\n",
       "  </tbody>\n",
       "</table>\n",
       "</div>"
      ],
      "text/plain": [
       "       avg_monthly_spend  num_services\n",
       "count        7032.000000   7032.000000\n",
       "mean           -2.011540      3.363339\n",
       "std            22.031629      2.062067\n",
       "min          -191.990773      0.000000\n",
       "25%            -0.450478      1.000000\n",
       "50%             0.340080      3.000000\n",
       "75%             0.941223      5.000000\n",
       "max            26.957560      8.000000"
      ]
     },
     "execution_count": 78,
     "metadata": {},
     "output_type": "execute_result"
    }
   ],
   "source": [
    "df[[\n",
    "    \"avg_monthly_spend\", \"is_new_customer\", \"is_loyal_customer\",\n",
    "    \"high_spender\", \"has_fiber_contract\", \"num_services\"\n",
    "]].describe()"
   ]
  },
  {
   "cell_type": "markdown",
   "id": "275dd739",
   "metadata": {},
   "source": [
    "As we can see, it only shows two columns.\n",
    "\n",
    "***Why?***\n",
    "\n",
    "Bool columns sometimes confuse the overall summary, but they work perfectly when used as numeric (0/1).\n",
    "\n",
    "Therefore, let's transform the Booleans for a moment to better appreciate the statistical summary of the new variables."
   ]
  },
  {
   "cell_type": "code",
   "execution_count": 79,
   "id": "139bf06e",
   "metadata": {},
   "outputs": [
    {
     "data": {
      "application/vnd.microsoft.datawrangler.viewer.v0+json": {
       "columns": [
        {
         "name": "index",
         "rawType": "object",
         "type": "string"
        },
        {
         "name": "avg_monthly_spend",
         "rawType": "float64",
         "type": "float"
        },
        {
         "name": "num_services",
         "rawType": "float64",
         "type": "float"
        },
        {
         "name": "is_new_customer",
         "rawType": "float64",
         "type": "float"
        },
        {
         "name": "is_loyal_customer",
         "rawType": "float64",
         "type": "float"
        },
        {
         "name": "high_spender",
         "rawType": "float64",
         "type": "float"
        },
        {
         "name": "has_fiber_contract",
         "rawType": "float64",
         "type": "float"
        }
       ],
       "ref": "bd2a41c0-3cab-4d96-a967-89c2b900c15b",
       "rows": [
        [
         "count",
         "7032.0",
         "7032.0",
         "7032.0",
         "7032.0",
         "7032.0",
         "7032.0"
        ],
        [
         "mean",
         "-2.1665244596131967",
         "3.363339021615472",
         "1.0",
         "0.0",
         "0.5575938566552902",
         "0.13765642775881684"
        ],
        [
         "std",
         "21.9033381570764",
         "2.0620673753057757",
         "0.0",
         "0.0",
         "0.49670719012315584",
         "0.3445635196134719"
        ],
        [
         "min",
         "-191.0",
         "0.0",
         "1.0",
         "0.0",
         "0.0",
         "0.0"
        ],
        [
         "25%",
         "0.0",
         "1.0",
         "1.0",
         "0.0",
         "0.0",
         "0.0"
        ],
        [
         "50%",
         "0.0",
         "3.0",
         "1.0",
         "0.0",
         "1.0",
         "0.0"
        ],
        [
         "75%",
         "0.0",
         "5.0",
         "1.0",
         "0.0",
         "1.0",
         "0.0"
        ],
        [
         "max",
         "26.0",
         "8.0",
         "1.0",
         "0.0",
         "1.0",
         "1.0"
        ]
       ],
       "shape": {
        "columns": 6,
        "rows": 8
       }
      },
      "text/html": [
       "<div>\n",
       "<style scoped>\n",
       "    .dataframe tbody tr th:only-of-type {\n",
       "        vertical-align: middle;\n",
       "    }\n",
       "\n",
       "    .dataframe tbody tr th {\n",
       "        vertical-align: top;\n",
       "    }\n",
       "\n",
       "    .dataframe thead th {\n",
       "        text-align: right;\n",
       "    }\n",
       "</style>\n",
       "<table border=\"1\" class=\"dataframe\">\n",
       "  <thead>\n",
       "    <tr style=\"text-align: right;\">\n",
       "      <th></th>\n",
       "      <th>avg_monthly_spend</th>\n",
       "      <th>num_services</th>\n",
       "      <th>is_new_customer</th>\n",
       "      <th>is_loyal_customer</th>\n",
       "      <th>high_spender</th>\n",
       "      <th>has_fiber_contract</th>\n",
       "    </tr>\n",
       "  </thead>\n",
       "  <tbody>\n",
       "    <tr>\n",
       "      <th>count</th>\n",
       "      <td>7032.000000</td>\n",
       "      <td>7032.000000</td>\n",
       "      <td>7032.0</td>\n",
       "      <td>7032.0</td>\n",
       "      <td>7032.000000</td>\n",
       "      <td>7032.000000</td>\n",
       "    </tr>\n",
       "    <tr>\n",
       "      <th>mean</th>\n",
       "      <td>-2.166524</td>\n",
       "      <td>3.363339</td>\n",
       "      <td>1.0</td>\n",
       "      <td>0.0</td>\n",
       "      <td>0.557594</td>\n",
       "      <td>0.137656</td>\n",
       "    </tr>\n",
       "    <tr>\n",
       "      <th>std</th>\n",
       "      <td>21.903338</td>\n",
       "      <td>2.062067</td>\n",
       "      <td>0.0</td>\n",
       "      <td>0.0</td>\n",
       "      <td>0.496707</td>\n",
       "      <td>0.344564</td>\n",
       "    </tr>\n",
       "    <tr>\n",
       "      <th>min</th>\n",
       "      <td>-191.000000</td>\n",
       "      <td>0.000000</td>\n",
       "      <td>1.0</td>\n",
       "      <td>0.0</td>\n",
       "      <td>0.000000</td>\n",
       "      <td>0.000000</td>\n",
       "    </tr>\n",
       "    <tr>\n",
       "      <th>25%</th>\n",
       "      <td>0.000000</td>\n",
       "      <td>1.000000</td>\n",
       "      <td>1.0</td>\n",
       "      <td>0.0</td>\n",
       "      <td>0.000000</td>\n",
       "      <td>0.000000</td>\n",
       "    </tr>\n",
       "    <tr>\n",
       "      <th>50%</th>\n",
       "      <td>0.000000</td>\n",
       "      <td>3.000000</td>\n",
       "      <td>1.0</td>\n",
       "      <td>0.0</td>\n",
       "      <td>1.000000</td>\n",
       "      <td>0.000000</td>\n",
       "    </tr>\n",
       "    <tr>\n",
       "      <th>75%</th>\n",
       "      <td>0.000000</td>\n",
       "      <td>5.000000</td>\n",
       "      <td>1.0</td>\n",
       "      <td>0.0</td>\n",
       "      <td>1.000000</td>\n",
       "      <td>0.000000</td>\n",
       "    </tr>\n",
       "    <tr>\n",
       "      <th>max</th>\n",
       "      <td>26.000000</td>\n",
       "      <td>8.000000</td>\n",
       "      <td>1.0</td>\n",
       "      <td>0.0</td>\n",
       "      <td>1.000000</td>\n",
       "      <td>1.000000</td>\n",
       "    </tr>\n",
       "  </tbody>\n",
       "</table>\n",
       "</div>"
      ],
      "text/plain": [
       "       avg_monthly_spend  num_services  is_new_customer  is_loyal_customer  \\\n",
       "count        7032.000000   7032.000000           7032.0             7032.0   \n",
       "mean           -2.166524      3.363339              1.0                0.0   \n",
       "std            21.903338      2.062067              0.0                0.0   \n",
       "min          -191.000000      0.000000              1.0                0.0   \n",
       "25%             0.000000      1.000000              1.0                0.0   \n",
       "50%             0.000000      3.000000              1.0                0.0   \n",
       "75%             0.000000      5.000000              1.0                0.0   \n",
       "max            26.000000      8.000000              1.0                0.0   \n",
       "\n",
       "       high_spender  has_fiber_contract  \n",
       "count   7032.000000         7032.000000  \n",
       "mean       0.557594            0.137656  \n",
       "std        0.496707            0.344564  \n",
       "min        0.000000            0.000000  \n",
       "25%        0.000000            0.000000  \n",
       "50%        1.000000            0.000000  \n",
       "75%        1.000000            0.000000  \n",
       "max        1.000000            1.000000  "
      ]
     },
     "execution_count": 79,
     "metadata": {},
     "output_type": "execute_result"
    }
   ],
   "source": [
    "df[[\n",
    "    \"avg_monthly_spend\", \"num_services\", \n",
    "    \"is_new_customer\", \"is_loyal_customer\", \n",
    "    \"high_spender\", \"has_fiber_contract\"\n",
    "]].astype(int).describe()"
   ]
  },
  {
   "cell_type": "markdown",
   "id": "74499291",
   "metadata": {},
   "source": [
    "This statistical summary of the new variables allows us to quickly verify whether they are correctly calculated and whether they make sense, providing predictive power to the model."
   ]
  },
  {
   "cell_type": "markdown",
   "id": "f0dcacfd",
   "metadata": {},
   "source": [
    "<br>"
   ]
  },
  {
   "cell_type": "markdown",
   "id": "02fdcc17",
   "metadata": {},
   "source": [
    "### Final Summary"
   ]
  },
  {
   "cell_type": "markdown",
   "id": "004b9fe7",
   "metadata": {},
   "source": [
    "Now with our new variables associated with our dataframe:"
   ]
  },
  {
   "cell_type": "markdown",
   "id": "be59610b",
   "metadata": {},
   "source": [
    "| New Variable | Type | Business Sense |\n",
    "| -------------------- | -------- | ------------------------------------------------------------------- |\n",
    "| `avg_monthly_spend` | Numeric | Average monthly spend, possible indicator of dissatisfaction if it is high |\n",
    "| `is_new_customer` | Boolean | New customers tend to leave more quickly |\n",
    "| `is_loyal_customer` | Boolean | Loyal customers may have a low probability of churn |\n",
    "| `high_spender` | Boolean | Higher-paying customers may be more demanding |\n",
    "| `has_fiber_contract` | Boolean | Premium customers with long-term contracts tend to be more stable |\n",
    "| `num_services` | Numeric | The more services you have, the lower the probability of churn |"
   ]
  },
  {
   "cell_type": "markdown",
   "id": "8e90d7e2",
   "metadata": {},
   "source": [
    "Let's run a quick test to see how these new features affect the model."
   ]
  },
  {
   "cell_type": "markdown",
   "id": "d7f7814c",
   "metadata": {},
   "source": [
    "<br>"
   ]
  },
  {
   "cell_type": "markdown",
   "id": "d3388d70",
   "metadata": {},
   "source": [
    "### Rapid Validation with Random Forest\n",
    "\n",
    "**Why do we only use Random Forest at this point?**\n",
    "\n",
    "A robust model like Random Forest is enough to validate the value of the new features because:\n",
    "* It captures nonlinear relationships\n",
    "* It gives us a solid idea of ​​whether the new variables improve churn recall\n",
    "* We don't need to spend resources training the five models just for pre-validation."
   ]
  },
  {
   "cell_type": "markdown",
   "id": "ad4596bb",
   "metadata": {},
   "source": [
    "<br>"
   ]
  },
  {
   "cell_type": "markdown",
   "id": "93dd3901",
   "metadata": {},
   "source": [
    "We should also emphasize that our mission is to improve the recall metric, as it allows us to detect customers who are about to abandon the service (churn = 1). Keeping in mind that recall (or sensitivity) is the metric that measures the model's ability to correctly identify positive cases.\n",
    "\n",
    "This translates to:\n",
    "``Detecting those who leave, before they leave.``"
   ]
  },
  {
   "cell_type": "code",
   "execution_count": 80,
   "id": "9c12ba7c",
   "metadata": {},
   "outputs": [
    {
     "name": "stdout",
     "output_type": "stream",
     "text": [
      "Classification report:\n",
      "\n",
      "              precision    recall  f1-score   support\n",
      "\n",
      "           0     0.8244    0.8974    0.8594      1549\n",
      "           1     0.6250    0.4724    0.5381       561\n",
      "\n",
      "    accuracy                         0.7844      2110\n",
      "   macro avg     0.7247    0.6849    0.6987      2110\n",
      "weighted avg     0.7714    0.7844    0.7739      2110\n",
      "\n",
      "\n",
      "Recall (churning customers): 0.4724\n"
     ]
    }
   ],
   "source": [
    "# Define features and targets\n",
    "X = df.drop(columns=\"churn\")\n",
    "y = df[\"churn\"]\n",
    "\n",
    "# Splitting data with a test_size of 0.3\n",
    "X_train, X_test, y_train, y_test = train_test_split(\n",
    "X, y, test_size=0.3, stratify=y, random_state=42\n",
    ")\n",
    "\n",
    "# Fast model with Random Forest\n",
    "clf = RandomForestClassifier(random_state=42)\n",
    "clf.fit(X_train, y_train)\n",
    "y_pred = clf.predict(X_test)\n",
    "\n",
    "# Evaluation\n",
    "print(\"Classification report:\\n\")\n",
    "print(classification_report(y_test, y_pred, digits=4))\n",
    "\n",
    "recall_churn = recall_score(y_test, y_pred)\n",
    "print(f\"\\nRecall (churning customers): {recall_churn:.4f}\")"
   ]
  },
  {
   "cell_type": "markdown",
   "id": "749676ba",
   "metadata": {},
   "source": [
    "### Comparison: before vs. after"
   ]
  },
  {
   "cell_type": "markdown",
   "id": "251b03d4",
   "metadata": {},
   "source": [
    "Now we compare the baseline metrics with those of this model trained with the enriched dataset."
   ]
  },
  {
   "cell_type": "markdown",
   "id": "426dff0c",
   "metadata": {},
   "source": [
    "| Metric | Baseline (31 vars) | Model with new features (37 vars) |\n",
    "| ---------- | ------------------------- | ---------------------------------- |\n",
    "| Accuracy | 0.7863 | 0.7844 |\n",
    "| Precision | 0.6273 | 0.6250 |\n",
    "| ``Recall`` | ``0.4831`` | ``0.4724`` |\n",
    "| F1 Score | 0.5458 | 0.5381 |"
   ]
  },
  {
   "cell_type": "markdown",
   "id": "632ee1b9",
   "metadata": {},
   "source": [
    "**What happens to the model with the new variables?**\n",
    "\n",
    "***Very similar results:***\n",
    "Both versions of the model have very similar performance. The metrics are within a difference of less than 1.5%.\n",
    "\n",
    "None of the models clearly dominates the other, which is very valuable in itself."
   ]
  },
  {
   "cell_type": "markdown",
   "id": "2c0ab188",
   "metadata": {},
   "source": [
    "``But most importantly``: the new features make business sense.\n",
    "Although the model with the new variables isn't dramatically improved, it isn't worse either, and it adds interpretability and actionability."
   ]
  },
  {
   "cell_type": "markdown",
   "id": "92f25409",
   "metadata": {},
   "source": [
    "***Why is this good?***\n",
    "\n",
    "It allows us to say:\n",
    "\n",
    "\"We can detect churn with the same performance as before, but now we know that customers with certain characteristics, such as being new, spending a lot, or having fiber optics, are more at risk.\"\n",
    "\n",
    "These are levers the business can use (retargeting, discounts, etc.)"
   ]
  },
  {
   "cell_type": "markdown",
   "id": "b904cb5f",
   "metadata": {},
   "source": [
    "<br>"
   ]
  },
  {
   "cell_type": "markdown",
   "id": "713fd374",
   "metadata": {},
   "source": [
    "### We save the dataset with the new features\n",
    "\n",
    "We conclude this notebook by saving the updated dataset for the next step, which will be to optimize these models with all the variables before selecting the best ones."
   ]
  },
  {
   "cell_type": "code",
   "execution_count": 81,
   "id": "96cab47d",
   "metadata": {},
   "outputs": [
    {
     "name": "stdout",
     "output_type": "stream",
     "text": [
      "\n",
      "Saved enriched dataset: telco-feature-engineering.csv\n"
     ]
    }
   ],
   "source": [
    "df.to_csv(\"../data/processed/telco-feature-engineering.csv\", index=False)\n",
    "print(\"\\nSaved enriched dataset: telco-feature-engineering.csv\")"
   ]
  },
  {
   "cell_type": "markdown",
   "id": "85e2111a",
   "metadata": {},
   "source": [
    "<br>"
   ]
  },
  {
   "cell_type": "markdown",
   "id": "ba3e74ae",
   "metadata": {},
   "source": [
    "<hr>"
   ]
  },
  {
   "cell_type": "markdown",
   "id": "02ff3480",
   "metadata": {},
   "source": [
    "## Author\n",
    "\n",
    "<a href=\"https://www.linkedin.com/in/flavio-aguirre-12784a252/\">**Flavio Aguirre**</a>\n",
    "<br>\n",
    "<a href=\"https://coursera.org/share/e27ae5af81b56f99a2aa85289b7cdd04\">***Data Scientist***</a>"
   ]
  }
 ],
 "metadata": {
  "kernelspec": {
   "display_name": ".venv",
   "language": "python",
   "name": "python3"
  },
  "language_info": {
   "codemirror_mode": {
    "name": "ipython",
    "version": 3
   },
   "file_extension": ".py",
   "mimetype": "text/x-python",
   "name": "python",
   "nbconvert_exporter": "python",
   "pygments_lexer": "ipython3",
   "version": "3.12.3"
  }
 },
 "nbformat": 4,
 "nbformat_minor": 5
}
