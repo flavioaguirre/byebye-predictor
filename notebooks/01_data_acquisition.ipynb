{
 "cells": [
  {
   "cell_type": "markdown",
   "id": "75953574",
   "metadata": {},
   "source": [
    "<p style=\"text-align:center\"> \n",
    "    <a href=\"https://www.linkedin.com/in/flavio-aguirre-12784a252/\" target=\"_blank\"> \n",
    "    <img src=\"../assets/logo.png\" width=\"200\" alt=\"Flavio Aguirre Logo\"> \n",
    "    </a>\n",
    "</p>\n",
    "\n",
    "<h1 align=\"center\"><font size=\"7\"><strong>📉 ByeBye Predictor</strong></font></h1>\n",
    "<br>\n",
    "<hr>"
   ]
  },
  {
   "cell_type": "markdown",
   "id": "4884039d",
   "metadata": {},
   "source": [
    "## Data Acquisition\n",
    "\n",
    "As indicated in the project description, data collection has been structured into two complementary approaches.\n",
    "On the one hand, a tabular dataset obtained from the trusted source [Kaggle - Telco Customer Churn](https://www.kaggle.com/datasets/blastchar/telco-customer-churn) has been used. This labeled dataset provides a solid foundation for the initial training of the model, allowing feature engineering techniques to be applied to structured data to optimize its performance.\n",
    "\n",
    "On the other hand, a second source of unstructured data will be incorporated, consisting of real user comments extracted from Reddit using the platform's official API. This layer of textual data will allow the model to be enriched through sentiment analysis, capturing customer nuances and perceptions that are not always reflected in traditional tabular data."
   ]
  },
  {
   "cell_type": "code",
   "execution_count": 1,
   "id": "5d8d3897",
   "metadata": {},
   "outputs": [],
   "source": [
    "import pandas as pd\n",
    "\n",
    "# Warnings.\n",
    "import warnings\n",
    "warnings.filterwarnings(\"ignore\", category=FutureWarning)"
   ]
  },
  {
   "cell_type": "markdown",
   "id": "f2267039",
   "metadata": {},
   "source": [
    "We download the file from the trusted source to have it locally without the need to generate a token.\n",
    "\n",
    "We then download it to the './data/raw/' folder in our home directory to read it using the pandas ``.read_csv()`` method."
   ]
  },
  {
   "cell_type": "code",
   "execution_count": 4,
   "id": "9ebcbe7c",
   "metadata": {},
   "outputs": [
    {
     "name": "stdout",
     "output_type": "stream",
     "text": [
      "Data shape: (7043, 21)\n"
     ]
    },
    {
     "data": {
      "application/vnd.microsoft.datawrangler.viewer.v0+json": {
       "columns": [
        {
         "name": "index",
         "rawType": "int64",
         "type": "integer"
        },
        {
         "name": "customerID",
         "rawType": "object",
         "type": "string"
        },
        {
         "name": "gender",
         "rawType": "object",
         "type": "string"
        },
        {
         "name": "SeniorCitizen",
         "rawType": "int64",
         "type": "integer"
        },
        {
         "name": "Partner",
         "rawType": "object",
         "type": "string"
        },
        {
         "name": "Dependents",
         "rawType": "object",
         "type": "string"
        },
        {
         "name": "tenure",
         "rawType": "int64",
         "type": "integer"
        },
        {
         "name": "PhoneService",
         "rawType": "object",
         "type": "string"
        },
        {
         "name": "MultipleLines",
         "rawType": "object",
         "type": "string"
        },
        {
         "name": "InternetService",
         "rawType": "object",
         "type": "string"
        },
        {
         "name": "OnlineSecurity",
         "rawType": "object",
         "type": "string"
        },
        {
         "name": "OnlineBackup",
         "rawType": "object",
         "type": "string"
        },
        {
         "name": "DeviceProtection",
         "rawType": "object",
         "type": "string"
        },
        {
         "name": "TechSupport",
         "rawType": "object",
         "type": "string"
        },
        {
         "name": "StreamingTV",
         "rawType": "object",
         "type": "string"
        },
        {
         "name": "StreamingMovies",
         "rawType": "object",
         "type": "string"
        },
        {
         "name": "Contract",
         "rawType": "object",
         "type": "string"
        },
        {
         "name": "PaperlessBilling",
         "rawType": "object",
         "type": "string"
        },
        {
         "name": "PaymentMethod",
         "rawType": "object",
         "type": "string"
        },
        {
         "name": "MonthlyCharges",
         "rawType": "float64",
         "type": "float"
        },
        {
         "name": "TotalCharges",
         "rawType": "object",
         "type": "string"
        },
        {
         "name": "Churn",
         "rawType": "object",
         "type": "string"
        }
       ],
       "ref": "4c628c1a-2584-418f-8a2d-e1155428bdda",
       "rows": [
        [
         "0",
         "7590-VHVEG",
         "Female",
         "0",
         "Yes",
         "No",
         "1",
         "No",
         "No phone service",
         "DSL",
         "No",
         "Yes",
         "No",
         "No",
         "No",
         "No",
         "Month-to-month",
         "Yes",
         "Electronic check",
         "29.85",
         "29.85",
         "No"
        ],
        [
         "1",
         "5575-GNVDE",
         "Male",
         "0",
         "No",
         "No",
         "34",
         "Yes",
         "No",
         "DSL",
         "Yes",
         "No",
         "Yes",
         "No",
         "No",
         "No",
         "One year",
         "No",
         "Mailed check",
         "56.95",
         "1889.5",
         "No"
        ],
        [
         "2",
         "3668-QPYBK",
         "Male",
         "0",
         "No",
         "No",
         "2",
         "Yes",
         "No",
         "DSL",
         "Yes",
         "Yes",
         "No",
         "No",
         "No",
         "No",
         "Month-to-month",
         "Yes",
         "Mailed check",
         "53.85",
         "108.15",
         "Yes"
        ],
        [
         "3",
         "7795-CFOCW",
         "Male",
         "0",
         "No",
         "No",
         "45",
         "No",
         "No phone service",
         "DSL",
         "Yes",
         "No",
         "Yes",
         "Yes",
         "No",
         "No",
         "One year",
         "No",
         "Bank transfer (automatic)",
         "42.3",
         "1840.75",
         "No"
        ],
        [
         "4",
         "9237-HQITU",
         "Female",
         "0",
         "No",
         "No",
         "2",
         "Yes",
         "No",
         "Fiber optic",
         "No",
         "No",
         "No",
         "No",
         "No",
         "No",
         "Month-to-month",
         "Yes",
         "Electronic check",
         "70.7",
         "151.65",
         "Yes"
        ]
       ],
       "shape": {
        "columns": 21,
        "rows": 5
       }
      },
      "text/html": [
       "<div>\n",
       "<style scoped>\n",
       "    .dataframe tbody tr th:only-of-type {\n",
       "        vertical-align: middle;\n",
       "    }\n",
       "\n",
       "    .dataframe tbody tr th {\n",
       "        vertical-align: top;\n",
       "    }\n",
       "\n",
       "    .dataframe thead th {\n",
       "        text-align: right;\n",
       "    }\n",
       "</style>\n",
       "<table border=\"1\" class=\"dataframe\">\n",
       "  <thead>\n",
       "    <tr style=\"text-align: right;\">\n",
       "      <th></th>\n",
       "      <th>customerID</th>\n",
       "      <th>gender</th>\n",
       "      <th>SeniorCitizen</th>\n",
       "      <th>Partner</th>\n",
       "      <th>Dependents</th>\n",
       "      <th>tenure</th>\n",
       "      <th>PhoneService</th>\n",
       "      <th>MultipleLines</th>\n",
       "      <th>InternetService</th>\n",
       "      <th>OnlineSecurity</th>\n",
       "      <th>...</th>\n",
       "      <th>DeviceProtection</th>\n",
       "      <th>TechSupport</th>\n",
       "      <th>StreamingTV</th>\n",
       "      <th>StreamingMovies</th>\n",
       "      <th>Contract</th>\n",
       "      <th>PaperlessBilling</th>\n",
       "      <th>PaymentMethod</th>\n",
       "      <th>MonthlyCharges</th>\n",
       "      <th>TotalCharges</th>\n",
       "      <th>Churn</th>\n",
       "    </tr>\n",
       "  </thead>\n",
       "  <tbody>\n",
       "    <tr>\n",
       "      <th>0</th>\n",
       "      <td>7590-VHVEG</td>\n",
       "      <td>Female</td>\n",
       "      <td>0</td>\n",
       "      <td>Yes</td>\n",
       "      <td>No</td>\n",
       "      <td>1</td>\n",
       "      <td>No</td>\n",
       "      <td>No phone service</td>\n",
       "      <td>DSL</td>\n",
       "      <td>No</td>\n",
       "      <td>...</td>\n",
       "      <td>No</td>\n",
       "      <td>No</td>\n",
       "      <td>No</td>\n",
       "      <td>No</td>\n",
       "      <td>Month-to-month</td>\n",
       "      <td>Yes</td>\n",
       "      <td>Electronic check</td>\n",
       "      <td>29.85</td>\n",
       "      <td>29.85</td>\n",
       "      <td>No</td>\n",
       "    </tr>\n",
       "    <tr>\n",
       "      <th>1</th>\n",
       "      <td>5575-GNVDE</td>\n",
       "      <td>Male</td>\n",
       "      <td>0</td>\n",
       "      <td>No</td>\n",
       "      <td>No</td>\n",
       "      <td>34</td>\n",
       "      <td>Yes</td>\n",
       "      <td>No</td>\n",
       "      <td>DSL</td>\n",
       "      <td>Yes</td>\n",
       "      <td>...</td>\n",
       "      <td>Yes</td>\n",
       "      <td>No</td>\n",
       "      <td>No</td>\n",
       "      <td>No</td>\n",
       "      <td>One year</td>\n",
       "      <td>No</td>\n",
       "      <td>Mailed check</td>\n",
       "      <td>56.95</td>\n",
       "      <td>1889.5</td>\n",
       "      <td>No</td>\n",
       "    </tr>\n",
       "    <tr>\n",
       "      <th>2</th>\n",
       "      <td>3668-QPYBK</td>\n",
       "      <td>Male</td>\n",
       "      <td>0</td>\n",
       "      <td>No</td>\n",
       "      <td>No</td>\n",
       "      <td>2</td>\n",
       "      <td>Yes</td>\n",
       "      <td>No</td>\n",
       "      <td>DSL</td>\n",
       "      <td>Yes</td>\n",
       "      <td>...</td>\n",
       "      <td>No</td>\n",
       "      <td>No</td>\n",
       "      <td>No</td>\n",
       "      <td>No</td>\n",
       "      <td>Month-to-month</td>\n",
       "      <td>Yes</td>\n",
       "      <td>Mailed check</td>\n",
       "      <td>53.85</td>\n",
       "      <td>108.15</td>\n",
       "      <td>Yes</td>\n",
       "    </tr>\n",
       "    <tr>\n",
       "      <th>3</th>\n",
       "      <td>7795-CFOCW</td>\n",
       "      <td>Male</td>\n",
       "      <td>0</td>\n",
       "      <td>No</td>\n",
       "      <td>No</td>\n",
       "      <td>45</td>\n",
       "      <td>No</td>\n",
       "      <td>No phone service</td>\n",
       "      <td>DSL</td>\n",
       "      <td>Yes</td>\n",
       "      <td>...</td>\n",
       "      <td>Yes</td>\n",
       "      <td>Yes</td>\n",
       "      <td>No</td>\n",
       "      <td>No</td>\n",
       "      <td>One year</td>\n",
       "      <td>No</td>\n",
       "      <td>Bank transfer (automatic)</td>\n",
       "      <td>42.30</td>\n",
       "      <td>1840.75</td>\n",
       "      <td>No</td>\n",
       "    </tr>\n",
       "    <tr>\n",
       "      <th>4</th>\n",
       "      <td>9237-HQITU</td>\n",
       "      <td>Female</td>\n",
       "      <td>0</td>\n",
       "      <td>No</td>\n",
       "      <td>No</td>\n",
       "      <td>2</td>\n",
       "      <td>Yes</td>\n",
       "      <td>No</td>\n",
       "      <td>Fiber optic</td>\n",
       "      <td>No</td>\n",
       "      <td>...</td>\n",
       "      <td>No</td>\n",
       "      <td>No</td>\n",
       "      <td>No</td>\n",
       "      <td>No</td>\n",
       "      <td>Month-to-month</td>\n",
       "      <td>Yes</td>\n",
       "      <td>Electronic check</td>\n",
       "      <td>70.70</td>\n",
       "      <td>151.65</td>\n",
       "      <td>Yes</td>\n",
       "    </tr>\n",
       "  </tbody>\n",
       "</table>\n",
       "<p>5 rows × 21 columns</p>\n",
       "</div>"
      ],
      "text/plain": [
       "   customerID  gender  SeniorCitizen Partner Dependents  tenure PhoneService  \\\n",
       "0  7590-VHVEG  Female              0     Yes         No       1           No   \n",
       "1  5575-GNVDE    Male              0      No         No      34          Yes   \n",
       "2  3668-QPYBK    Male              0      No         No       2          Yes   \n",
       "3  7795-CFOCW    Male              0      No         No      45           No   \n",
       "4  9237-HQITU  Female              0      No         No       2          Yes   \n",
       "\n",
       "      MultipleLines InternetService OnlineSecurity  ... DeviceProtection  \\\n",
       "0  No phone service             DSL             No  ...               No   \n",
       "1                No             DSL            Yes  ...              Yes   \n",
       "2                No             DSL            Yes  ...               No   \n",
       "3  No phone service             DSL            Yes  ...              Yes   \n",
       "4                No     Fiber optic             No  ...               No   \n",
       "\n",
       "  TechSupport StreamingTV StreamingMovies        Contract PaperlessBilling  \\\n",
       "0          No          No              No  Month-to-month              Yes   \n",
       "1          No          No              No        One year               No   \n",
       "2          No          No              No  Month-to-month              Yes   \n",
       "3         Yes          No              No        One year               No   \n",
       "4          No          No              No  Month-to-month              Yes   \n",
       "\n",
       "               PaymentMethod MonthlyCharges  TotalCharges Churn  \n",
       "0           Electronic check          29.85         29.85    No  \n",
       "1               Mailed check          56.95        1889.5    No  \n",
       "2               Mailed check          53.85        108.15   Yes  \n",
       "3  Bank transfer (automatic)          42.30       1840.75    No  \n",
       "4           Electronic check          70.70        151.65   Yes  \n",
       "\n",
       "[5 rows x 21 columns]"
      ]
     },
     "execution_count": 4,
     "metadata": {},
     "output_type": "execute_result"
    }
   ],
   "source": [
    "df = pd.read_csv('../data/raw/telco-customer-churn.csv')\n",
    "\n",
    "# Verify the data was loaded correctly.\n",
    "print(f\"Data shape: {df.shape}\")\n",
    "df.head()"
   ]
  },
  {
   "cell_type": "markdown",
   "id": "301c4f0d",
   "metadata": {},
   "source": [
    "### We observe the information in the pandas dataframe"
   ]
  },
  {
   "cell_type": "code",
   "execution_count": 3,
   "id": "00401621",
   "metadata": {},
   "outputs": [
    {
     "name": "stdout",
     "output_type": "stream",
     "text": [
      "<class 'pandas.core.frame.DataFrame'>\n",
      "RangeIndex: 7043 entries, 0 to 7042\n",
      "Data columns (total 21 columns):\n",
      " #   Column            Non-Null Count  Dtype  \n",
      "---  ------            --------------  -----  \n",
      " 0   customerID        7043 non-null   object \n",
      " 1   gender            7043 non-null   object \n",
      " 2   SeniorCitizen     7043 non-null   int64  \n",
      " 3   Partner           7043 non-null   object \n",
      " 4   Dependents        7043 non-null   object \n",
      " 5   tenure            7043 non-null   int64  \n",
      " 6   PhoneService      7043 non-null   object \n",
      " 7   MultipleLines     7043 non-null   object \n",
      " 8   InternetService   7043 non-null   object \n",
      " 9   OnlineSecurity    7043 non-null   object \n",
      " 10  OnlineBackup      7043 non-null   object \n",
      " 11  DeviceProtection  7043 non-null   object \n",
      " 12  TechSupport       7043 non-null   object \n",
      " 13  StreamingTV       7043 non-null   object \n",
      " 14  StreamingMovies   7043 non-null   object \n",
      " 15  Contract          7043 non-null   object \n",
      " 16  PaperlessBilling  7043 non-null   object \n",
      " 17  PaymentMethod     7043 non-null   object \n",
      " 18  MonthlyCharges    7043 non-null   float64\n",
      " 19  TotalCharges      7043 non-null   object \n",
      " 20  Churn             7043 non-null   object \n",
      "dtypes: float64(1), int64(2), object(18)\n",
      "memory usage: 1.1+ MB\n"
     ]
    }
   ],
   "source": [
    "df.info()"
   ]
  },
  {
   "cell_type": "markdown",
   "id": "498e4500",
   "metadata": {},
   "source": [
    "### Descriptive statistics of the data frame"
   ]
  },
  {
   "cell_type": "markdown",
   "id": "bb6f6a6e",
   "metadata": {},
   "source": [
    "As you can see, most of the dataset's columns are of type object, indicating that they contain string values.\n",
    "This characteristic limits the use of conventional statistical methods, such as describe(), since it will only calculate descriptive statistics (such as mean, standard deviation, or percentiles) for columns containing numerical data. Consequently, only a small subset of the columns (in this case, three) will be included in the statistical analysis."
   ]
  },
  {
   "cell_type": "code",
   "execution_count": 6,
   "id": "1d5d3017",
   "metadata": {},
   "outputs": [
    {
     "data": {
      "application/vnd.microsoft.datawrangler.viewer.v0+json": {
       "columns": [
        {
         "name": "index",
         "rawType": "object",
         "type": "string"
        },
        {
         "name": "SeniorCitizen",
         "rawType": "float64",
         "type": "float"
        },
        {
         "name": "tenure",
         "rawType": "float64",
         "type": "float"
        },
        {
         "name": "MonthlyCharges",
         "rawType": "float64",
         "type": "float"
        }
       ],
       "ref": "95b6e833-18ee-45d2-b7bf-e13271c07e2d",
       "rows": [
        [
         "count",
         "7043.0",
         "7043.0",
         "7043.0"
        ],
        [
         "mean",
         "0.1621468124378816",
         "32.37114865824223",
         "64.76169246059918"
        ],
        [
         "std",
         "0.3686116056100131",
         "24.55948102309446",
         "30.090047097678493"
        ],
        [
         "min",
         "0.0",
         "0.0",
         "18.25"
        ],
        [
         "25%",
         "0.0",
         "9.0",
         "35.5"
        ],
        [
         "50%",
         "0.0",
         "29.0",
         "70.35"
        ],
        [
         "75%",
         "0.0",
         "55.0",
         "89.85"
        ],
        [
         "max",
         "1.0",
         "72.0",
         "118.75"
        ]
       ],
       "shape": {
        "columns": 3,
        "rows": 8
       }
      },
      "text/html": [
       "<div>\n",
       "<style scoped>\n",
       "    .dataframe tbody tr th:only-of-type {\n",
       "        vertical-align: middle;\n",
       "    }\n",
       "\n",
       "    .dataframe tbody tr th {\n",
       "        vertical-align: top;\n",
       "    }\n",
       "\n",
       "    .dataframe thead th {\n",
       "        text-align: right;\n",
       "    }\n",
       "</style>\n",
       "<table border=\"1\" class=\"dataframe\">\n",
       "  <thead>\n",
       "    <tr style=\"text-align: right;\">\n",
       "      <th></th>\n",
       "      <th>SeniorCitizen</th>\n",
       "      <th>tenure</th>\n",
       "      <th>MonthlyCharges</th>\n",
       "    </tr>\n",
       "  </thead>\n",
       "  <tbody>\n",
       "    <tr>\n",
       "      <th>count</th>\n",
       "      <td>7043.000000</td>\n",
       "      <td>7043.000000</td>\n",
       "      <td>7043.000000</td>\n",
       "    </tr>\n",
       "    <tr>\n",
       "      <th>mean</th>\n",
       "      <td>0.162147</td>\n",
       "      <td>32.371149</td>\n",
       "      <td>64.761692</td>\n",
       "    </tr>\n",
       "    <tr>\n",
       "      <th>std</th>\n",
       "      <td>0.368612</td>\n",
       "      <td>24.559481</td>\n",
       "      <td>30.090047</td>\n",
       "    </tr>\n",
       "    <tr>\n",
       "      <th>min</th>\n",
       "      <td>0.000000</td>\n",
       "      <td>0.000000</td>\n",
       "      <td>18.250000</td>\n",
       "    </tr>\n",
       "    <tr>\n",
       "      <th>25%</th>\n",
       "      <td>0.000000</td>\n",
       "      <td>9.000000</td>\n",
       "      <td>35.500000</td>\n",
       "    </tr>\n",
       "    <tr>\n",
       "      <th>50%</th>\n",
       "      <td>0.000000</td>\n",
       "      <td>29.000000</td>\n",
       "      <td>70.350000</td>\n",
       "    </tr>\n",
       "    <tr>\n",
       "      <th>75%</th>\n",
       "      <td>0.000000</td>\n",
       "      <td>55.000000</td>\n",
       "      <td>89.850000</td>\n",
       "    </tr>\n",
       "    <tr>\n",
       "      <th>max</th>\n",
       "      <td>1.000000</td>\n",
       "      <td>72.000000</td>\n",
       "      <td>118.750000</td>\n",
       "    </tr>\n",
       "  </tbody>\n",
       "</table>\n",
       "</div>"
      ],
      "text/plain": [
       "       SeniorCitizen       tenure  MonthlyCharges\n",
       "count    7043.000000  7043.000000     7043.000000\n",
       "mean        0.162147    32.371149       64.761692\n",
       "std         0.368612    24.559481       30.090047\n",
       "min         0.000000     0.000000       18.250000\n",
       "25%         0.000000     9.000000       35.500000\n",
       "50%         0.000000    29.000000       70.350000\n",
       "75%         0.000000    55.000000       89.850000\n",
       "max         1.000000    72.000000      118.750000"
      ]
     },
     "execution_count": 6,
     "metadata": {},
     "output_type": "execute_result"
    }
   ],
   "source": [
    "df.describe()"
   ]
  },
  {
   "cell_type": "markdown",
   "id": "2250aacf",
   "metadata": {},
   "source": [
    "Indeed there are only 3 columns out of 21, which apply to the ``describe()`` method."
   ]
  },
  {
   "cell_type": "markdown",
   "id": "9bf64b0e",
   "metadata": {},
   "source": [
    "<hr>"
   ]
  },
  {
   "cell_type": "markdown",
   "id": "b34e2173",
   "metadata": {},
   "source": [
    "## Author\n",
    "\n",
    "<a href=\"https://www.linkedin.com/in/flavio-aguirre-12784a252/\">**Flavio Aguirre**</a>\n",
    "<br>\n",
    "<a href=\"https://coursera.org/share/e27ae5af81b56f99a2aa85289b7cdd04\">***Data Scientist***</a>"
   ]
  }
 ],
 "metadata": {
  "kernelspec": {
   "display_name": ".venv",
   "language": "python",
   "name": "python3"
  },
  "language_info": {
   "codemirror_mode": {
    "name": "ipython",
    "version": 3
   },
   "file_extension": ".py",
   "mimetype": "text/x-python",
   "name": "python",
   "nbconvert_exporter": "python",
   "pygments_lexer": "ipython3",
   "version": "3.12.3"
  }
 },
 "nbformat": 4,
 "nbformat_minor": 5
}
